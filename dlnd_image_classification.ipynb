{
 "cells": [
  {
   "cell_type": "markdown",
   "metadata": {
    "collapsed": true
   },
   "source": [
    "# Image Classification\n",
    "In this project, you'll classify images from the [CIFAR-10 dataset](https://www.cs.toronto.edu/~kriz/cifar.html).  The dataset consists of airplanes, dogs, cats, and other objects. You'll preprocess the images, then train a convolutional neural network on all the samples. The images need to be normalized and the labels need to be one-hot encoded.  You'll get to apply what you learned and build a convolutional, max pooling, dropout, and fully connected layers.  At the end, you'll get to see your neural network's predictions on the sample images.\n",
    "## Get the Data\n",
    "Run the following cell to download the [CIFAR-10 dataset for python](https://www.cs.toronto.edu/~kriz/cifar-10-python.tar.gz)."
   ]
  },
  {
   "cell_type": "code",
   "execution_count": 6,
   "metadata": {},
   "outputs": [
    {
     "name": "stdout",
     "output_type": "stream",
     "text": [
      "All files found!\n"
     ]
    }
   ],
   "source": [
    "\"\"\"\n",
    "DON'T MODIFY ANYTHING IN THIS CELL THAT IS BELOW THIS LINE\n",
    "\"\"\"\n",
    "from urllib.request import urlretrieve\n",
    "from os.path import isfile, isdir\n",
    "from tqdm import tqdm\n",
    "import problem_unittests as tests\n",
    "import tarfile\n",
    "\n",
    "cifar10_dataset_folder_path = 'cifar-10-batches-py'\n",
    "\n",
    "# Use Floyd's cifar-10 dataset if present\n",
    "floyd_cifar10_location = '/input/cifar-10/python.tar.gz'\n",
    "if isfile(floyd_cifar10_location):\n",
    "    tar_gz_path = floyd_cifar10_location\n",
    "else:\n",
    "    tar_gz_path = 'cifar-10-python.tar.gz'\n",
    "\n",
    "class DLProgress(tqdm):\n",
    "    last_block = 0\n",
    "\n",
    "    def hook(self, block_num=1, block_size=1, total_size=None):\n",
    "        self.total = total_size\n",
    "        self.update((block_num - self.last_block) * block_size)\n",
    "        self.last_block = block_num\n",
    "\n",
    "if not isfile(tar_gz_path):\n",
    "    with DLProgress(unit='B', unit_scale=True, miniters=1, desc='CIFAR-10 Dataset') as pbar:\n",
    "        urlretrieve(\n",
    "            'https://www.cs.toronto.edu/~kriz/cifar-10-python.tar.gz',\n",
    "            tar_gz_path,\n",
    "            pbar.hook)\n",
    "\n",
    "if not isdir(cifar10_dataset_folder_path):\n",
    "    with tarfile.open(tar_gz_path) as tar:\n",
    "        tar.extractall()\n",
    "        tar.close()\n",
    "\n",
    "\n",
    "tests.test_folder_path(cifar10_dataset_folder_path)"
   ]
  },
  {
   "cell_type": "markdown",
   "metadata": {},
   "source": [
    "## Explore the Data\n",
    "The dataset is broken into batches to prevent your machine from running out of memory.  The CIFAR-10 dataset consists of 5 batches, named `data_batch_1`, `data_batch_2`, etc.. Each batch contains the labels and images that are one of the following:\n",
    "* airplane\n",
    "* automobile\n",
    "* bird\n",
    "* cat\n",
    "* deer\n",
    "* dog\n",
    "* frog\n",
    "* horse\n",
    "* ship\n",
    "* truck\n",
    "\n",
    "Understanding a dataset is part of making predictions on the data.  Play around with the code cell below by changing the `batch_id` and `sample_id`. The `batch_id` is the id for a batch (1-5). The `sample_id` is the id for a image and label pair in the batch.\n",
    "\n",
    "Ask yourself \"What are all possible labels?\", \"What is the range of values for the image data?\", \"Are the labels in order or random?\".  Answers to questions like these will help you preprocess the data and end up with better predictions."
   ]
  },
  {
   "cell_type": "code",
   "execution_count": 7,
   "metadata": {},
   "outputs": [
    {
     "name": "stdout",
     "output_type": "stream",
     "text": [
      "\n",
      "Stats of batch 1:\n",
      "Samples: 10000\n",
      "Label Counts: {0: 1005, 1: 974, 2: 1032, 3: 1016, 4: 999, 5: 937, 6: 1030, 7: 1001, 8: 1025, 9: 981}\n",
      "First 20 Labels: [6, 9, 9, 4, 1, 1, 2, 7, 8, 3, 4, 7, 7, 2, 9, 9, 9, 3, 2, 6]\n",
      "\n",
      "Example of Image 8:\n",
      "Image - Min Value: 8 Max Value: 252\n",
      "Image - Shape: (32, 32, 3)\n",
      "Label - Label Id: 8 Name: ship\n"
     ]
    },
    {
     "data": {
      "image/png": "[encoded data removed]",
      "text/plain": [
       "<matplotlib.figure.Figure at 0xce25240>"
      ]
     },
     "metadata": {
      "image/png": {
       "height": 250,
       "width": 253
      }
     },
     "output_type": "display_data"
    }
   ],
   "source": [
    "%matplotlib inline\n",
    "%config InlineBackend.figure_format = 'retina'\n",
    "\n",
    "import helper\n",
    "import numpy as np\n",
    "\n",
    "# Explore the dataset\n",
    "batch_id = 1\n",
    "sample_id = 8\n",
    "helper.display_stats(cifar10_dataset_folder_path, batch_id, sample_id)"
   ]
  },
  {
   "cell_type": "markdown",
   "metadata": {},
   "source": [
    "## Implement Preprocess Functions\n",
    "### Normalize\n",
    "In the cell below, implement the `normalize` function to take in image data, `x`, and return it as a normalized Numpy array. The values should be in the range of 0 to 1, inclusive.  The return object should be the same shape as `x`."
   ]
  },
  {
   "cell_type": "code",
   "execution_count": 8,
   "metadata": {},
   "outputs": [
    {
     "name": "stdout",
     "output_type": "stream",
     "text": [
      "Tests Passed\n"
     ]
    }
   ],
   "source": [
    "def normalize(x):\n",
    "    \"\"\"\n",
    "    Normalize a list of sample image data in the range of 0 to 1\n",
    "    : x: List of image data.  The image shape is (32, 32, 3)\n",
    "    : return: Numpy array of normalize data\n",
    "    \"\"\"\n",
    "    # TODO: Implement Function\n",
    "    return x/np.max(x, axis = 0)\n",
    "#    for i in range(0, len(x)):\n",
    "#        size = x[i].shape;\n",
    "#        for xc in range(0, size[0]):\n",
    "#            for yc in range(0, size[1]):\n",
    "#                for cc in range(0, size[2]):\n",
    "#                    x[i][xc, yc, cc] = x[i][xc, yc, cc] / 256\n",
    "#    return x\n",
    "\n",
    "\n",
    "\"\"\"\n",
    "DON'T MODIFY ANYTHING IN THIS CELL THAT IS BELOW THIS LINE\n",
    "\"\"\"\n",
    "tests.test_normalize(normalize)"
   ]
  },
  {
   "cell_type": "markdown",
   "metadata": {},
   "source": [
    "### One-hot encode\n",
    "Just like the previous code cell, you'll be implementing a function for preprocessing.  This time, you'll implement the `one_hot_encode` function. The input, `x`, are a list of labels.  Implement the function to return the list of labels as One-Hot encoded Numpy array.  The possible values for labels are 0 to 9. The one-hot encoding function should return the same encoding for each value between each call to `one_hot_encode`.  Make sure to save the map of encodings outside the function.\n",
    "\n",
    "Hint: Don't reinvent the wheel."
   ]
  },
  {
   "cell_type": "code",
   "execution_count": 9,
   "metadata": {},
   "outputs": [
    {
     "name": "stdout",
     "output_type": "stream",
     "text": [
      "Tests Passed\n"
     ]
    }
   ],
   "source": [
    "import tensorflow as tf\n",
    "\n",
    "def one_hot_encode(x):\n",
    "    \"\"\"\n",
    "    One hot encode a list of sample labels. Return a one-hot encoded vector for each label.\n",
    "    : x: List of sample Labels\n",
    "    : return: Numpy array of one-hot encoded labels\n",
    "    \"\"\"\n",
    "    # TODO: Implement Function\n",
    "    init = tf.global_variables_initializer()\n",
    "    xvar = tf.placeholder(tf.int32)\n",
    "    enc = tf.one_hot(xvar, 10)\n",
    "    with tf.Session() as sess:\n",
    "        sess.run(init)\n",
    "        res = sess.run(enc, feed_dict = {xvar : x})\n",
    "    return res\n",
    "\n",
    "\n",
    "\"\"\"\n",
    "DON'T MODIFY ANYTHING IN THIS CELL THAT IS BELOW THIS LINE\n",
    "\"\"\"\n",
    "tests.test_one_hot_encode(one_hot_encode)"
   ]
  },
  {
   "cell_type": "markdown",
   "metadata": {},
   "source": [
    "### Randomize Data\n",
    "As you saw from exploring the data above, the order of the samples are randomized.  It doesn't hurt to randomize it again, but you don't need to for this dataset."
   ]
  },
  {
   "cell_type": "markdown",
   "metadata": {},
   "source": [
    "## Preprocess all the data and save it\n",
    "Running the code cell below will preprocess all the CIFAR-10 data and save it to file. The code below also uses 10% of the training data for validation."
   ]
  },
  {
   "cell_type": "code",
   "execution_count": 10,
   "metadata": {
    "collapsed": true
   },
   "outputs": [],
   "source": [
    "\"\"\"\n",
    "DON'T MODIFY ANYTHING IN THIS CELL\n",
    "\"\"\"\n",
    "# Preprocess Training, Validation, and Testing Data\n",
    "helper.preprocess_and_save_data(cifar10_dataset_folder_path, normalize, one_hot_encode)"
   ]
  },
  {
   "cell_type": "markdown",
   "metadata": {},
   "source": [
    "# Check Point\n",
    "This is your first checkpoint.  If you ever decide to come back to this notebook or have to restart the notebook, you can start from here.  The preprocessed data has been saved to disk."
   ]
  },
  {
   "cell_type": "code",
   "execution_count": 2,
   "metadata": {
    "collapsed": true
   },
   "outputs": [],
   "source": [
    "\"\"\"\n",
    "DON'T MODIFY ANYTHING IN THIS CELL\n",
    "\"\"\"\n",
    "import pickle\n",
    "import problem_unittests as tests\n",
    "import helper\n",
    "\n",
    "# Load the Preprocessed Validation data\n",
    "valid_features, valid_labels = pickle.load(open('preprocess_validation.p', mode='rb'))"
   ]
  },
  {
   "cell_type": "markdown",
   "metadata": {},
   "source": [
    "## Build the network\n",
    "For the neural network, you'll build each layer into a function.  Most of the code you've seen has been outside of functions. To test your code more thoroughly, we require that you put each layer in a function.  This allows us to give you better feedback and test for simple mistakes using our unittests before you submit your project.\n",
    "\n",
    ">**Note:** If you're finding it hard to dedicate enough time for this course each week, we've provided a small shortcut to this part of the project. In the next couple of problems, you'll have the option to use classes from the [TensorFlow Layers](https://www.tensorflow.org/api_docs/python/tf/layers) or [TensorFlow Layers (contrib)](https://www.tensorflow.org/api_guides/python/contrib.layers) packages to build each layer, except the layers you build in the \"Convolutional and Max Pooling Layer\" section.  TF Layers is similar to Keras's and TFLearn's abstraction to layers, so it's easy to pickup.\n",
    "\n",
    ">However, if you would like to get the most out of this course, try to solve all the problems _without_ using anything from the TF Layers packages. You **can** still use classes from other packages that happen to have the same name as ones you find in TF Layers! For example, instead of using the TF Layers version of the `conv2d` class, [tf.layers.conv2d](https://www.tensorflow.org/api_docs/python/tf/layers/conv2d), you would want to use the TF Neural Network version of `conv2d`, [tf.nn.conv2d](https://www.tensorflow.org/api_docs/python/tf/nn/conv2d). \n",
    "\n",
    "Let's begin!\n",
    "\n",
    "### Input\n",
    "The neural network needs to read the image data, one-hot encoded labels, and dropout keep probability. Implement the following functions\n",
    "* Implement `neural_net_image_input`\n",
    " * Return a [TF Placeholder](https://www.tensorflow.org/api_docs/python/tf/placeholder)\n",
    " * Set the shape using `image_shape` with batch size set to `None`.\n",
    " * Name the TensorFlow placeholder \"x\" using the TensorFlow `name` parameter in the [TF Placeholder](https://www.tensorflow.org/api_docs/python/tf/placeholder).\n",
    "* Implement `neural_net_label_input`\n",
    " * Return a [TF Placeholder](https://www.tensorflow.org/api_docs/python/tf/placeholder)\n",
    " * Set the shape using `n_classes` with batch size set to `None`.\n",
    " * Name the TensorFlow placeholder \"y\" using the TensorFlow `name` parameter in the [TF Placeholder](https://www.tensorflow.org/api_docs/python/tf/placeholder).\n",
    "* Implement `neural_net_keep_prob_input`\n",
    " * Return a [TF Placeholder](https://www.tensorflow.org/api_docs/python/tf/placeholder) for dropout keep probability.\n",
    " * Name the TensorFlow placeholder \"keep_prob\" using the TensorFlow `name` parameter in the [TF Placeholder](https://www.tensorflow.org/api_docs/python/tf/placeholder).\n",
    "\n",
    "These names will be used at the end of the project to load your saved model.\n",
    "\n",
    "Note: `None` for shapes in TensorFlow allow for a dynamic size."
   ]
  },
  {
   "cell_type": "code",
   "execution_count": 3,
   "metadata": {},
   "outputs": [
    {
     "name": "stdout",
     "output_type": "stream",
     "text": [
      "Image Input Tests Passed.\n",
      "Label Input Tests Passed.\n",
      "Keep Prob Tests Passed.\n"
     ]
    }
   ],
   "source": [
    "import tensorflow as tf\n",
    "\n",
    "def neural_net_image_input(image_shape):\n",
    "    \"\"\"\n",
    "    Return a Tensor for a batch of image input\n",
    "    : image_shape: Shape of the images\n",
    "    : return: Tensor for image input.\n",
    "    \"\"\"\n",
    "    x = tf.placeholder(tf.float32, [None, image_shape[0], image_shape[1], image_shape[2]], 'x')\n",
    "    return x\n",
    "\n",
    "\n",
    "def neural_net_label_input(n_classes):\n",
    "    \"\"\"\n",
    "    Return a Tensor for a batch of label input\n",
    "    : n_classes: Number of classes\n",
    "    : return: Tensor for label input.\n",
    "    \"\"\"\n",
    "    y = tf.placeholder(tf.float32, [None, n_classes], 'y')\n",
    "    return y\n",
    "\n",
    "\n",
    "def neural_net_keep_prob_input():\n",
    "    \"\"\"\n",
    "    Return a Tensor for keep probability\n",
    "    : return: Tensor for keep probability.\n",
    "    \"\"\"\n",
    "    return tf.placeholder(tf.float32, None, 'keep_prob')\n",
    "\n",
    "\n",
    "\"\"\"\n",
    "DON'T MODIFY ANYTHING IN THIS CELL THAT IS BELOW THIS LINE\n",
    "\"\"\"\n",
    "tf.reset_default_graph()\n",
    "tests.test_nn_image_inputs(neural_net_image_input)\n",
    "tests.test_nn_label_inputs(neural_net_label_input)\n",
    "tests.test_nn_keep_prob_inputs(neural_net_keep_prob_input)"
   ]
  },
  {
   "cell_type": "markdown",
   "metadata": {},
   "source": [
    "### Convolution and Max Pooling Layer\n",
    "Convolution layers have a lot of success with images. For this code cell, you should implement the function `conv2d_maxpool` to apply convolution then max pooling:\n",
    "* Create the weight and bias using `conv_ksize`, `conv_num_outputs` and the shape of `x_tensor`.\n",
    "* Apply a convolution to `x_tensor` using weight and `conv_strides`.\n",
    " * We recommend you use same padding, but you're welcome to use any padding.\n",
    "* Add bias\n",
    "* Add a nonlinear activation to the convolution.\n",
    "* Apply Max Pooling using `pool_ksize` and `pool_strides`.\n",
    " * We recommend you use same padding, but you're welcome to use any padding.\n",
    "\n",
    "**Note:** You **can't** use [TensorFlow Layers](https://www.tensorflow.org/api_docs/python/tf/layers) or [TensorFlow Layers (contrib)](https://www.tensorflow.org/api_guides/python/contrib.layers) for **this** layer, but you can still use TensorFlow's [Neural Network](https://www.tensorflow.org/api_docs/python/tf/nn) package. You may still use the shortcut option for all the **other** layers."
   ]
  },
  {
   "cell_type": "code",
   "execution_count": 4,
   "metadata": {},
   "outputs": [
    {
     "name": "stdout",
     "output_type": "stream",
     "text": [
      "Tests Passed\n"
     ]
    }
   ],
   "source": [
    "def conv2d_maxpool(x_tensor, conv_num_outputs, conv_ksize, conv_strides, pool_ksize, pool_strides):\n",
    "    \"\"\"\n",
    "    Apply convolution then max pooling to x_tensor\n",
    "    :param x_tensor: TensorFlow Tensor\n",
    "    :param conv_num_outputs: Number of outputs for the convolutional layer\n",
    "    :param conv_ksize: kernal size 2-D Tuple for the convolutional layer\n",
    "    :param conv_strides: Stride 2-D Tuple for convolution\n",
    "    :param pool_ksize: kernal size 2-D Tuple for pool\n",
    "    :param pool_strides: Stride 2-D Tuple for pool\n",
    "    : return: A tensor that represents convolution and max pooling of x_tensor\n",
    "    \"\"\"\n",
    "    W = tf.Variable(tf.truncated_normal([conv_ksize[0], conv_ksize[1], int(x_tensor.shape[3]), conv_num_outputs], stddev=0.1))\n",
    "    b = tf.Variable(tf.zeros([conv_num_outputs]))\n",
    "    x_tensor = tf.nn.conv2d(x_tensor, W, [1, conv_strides[0], conv_strides[1], 1], padding='SAME')\n",
    "    x_tensor = tf.nn.bias_add(x_tensor, b)\n",
    "    x_tensor = tf.nn.relu(x_tensor)\n",
    "    x_tensor = tf.nn.max_pool(x_tensor, [1, pool_ksize[0], pool_ksize[1], 1], [1, pool_strides[0], pool_strides[1], 1], padding='SAME')\n",
    "    return x_tensor\n",
    "\n",
    "\"\"\"\n",
    "DON'T MODIFY ANYTHING IN THIS CELL THAT IS BELOW THIS LINE\n",
    "\"\"\"\n",
    "tests.test_con_pool(conv2d_maxpool)"
   ]
  },
  {
   "cell_type": "markdown",
   "metadata": {},
   "source": [
    "### Flatten Layer\n",
    "Implement the `flatten` function to change the dimension of `x_tensor` from a 4-D tensor to a 2-D tensor.  The output should be the shape (*Batch Size*, *Flattened Image Size*). Shortcut option: you can use classes from the [TensorFlow Layers](https://www.tensorflow.org/api_docs/python/tf/layers) or [TensorFlow Layers (contrib)](https://www.tensorflow.org/api_guides/python/contrib.layers) packages for this layer. For more of a challenge, only use other TensorFlow packages."
   ]
  },
  {
   "cell_type": "code",
   "execution_count": 5,
   "metadata": {},
   "outputs": [
    {
     "name": "stdout",
     "output_type": "stream",
     "text": [
      "Tests Passed\n"
     ]
    }
   ],
   "source": [
    "def flatten(x_tensor):\n",
    "    \"\"\"\n",
    "    Flatten x_tensor to (Batch Size, Flattened Image Size)\n",
    "    : x_tensor: A tensor of size (Batch Size, ...), where ... are the image dimensions.\n",
    "    : return: A tensor of size (Batch Size, Flattened Image Size).\n",
    "    \"\"\"\n",
    "    shape = x_tensor.get_shape().as_list()\n",
    "    prod = 1\n",
    "    for i in range(1,len(shape)):\n",
    "        prod *= shape[i]\n",
    "    return tf.reshape(x_tensor, [-1, prod])\n",
    "\n",
    "\"\"\"\n",
    "DON'T MODIFY ANYTHING IN THIS CELL THAT IS BELOW THIS LINE\n",
    "\"\"\"\n",
    "tests.test_flatten(flatten)"
   ]
  },
  {
   "cell_type": "markdown",
   "metadata": {},
   "source": [
    "### Fully-Connected Layer\n",
    "Implement the `fully_conn` function to apply a fully connected layer to `x_tensor` with the shape (*Batch Size*, *num_outputs*). Shortcut option: you can use classes from the [TensorFlow Layers](https://www.tensorflow.org/api_docs/python/tf/layers) or [TensorFlow Layers (contrib)](https://www.tensorflow.org/api_guides/python/contrib.layers) packages for this layer. For more of a challenge, only use other TensorFlow packages."
   ]
  },
  {
   "cell_type": "code",
   "execution_count": 6,
   "metadata": {},
   "outputs": [
    {
     "name": "stdout",
     "output_type": "stream",
     "text": [
      "Tests Passed\n"
     ]
    }
   ],
   "source": [
    "def fully_conn(x_tensor, num_outputs):\n",
    "    \"\"\"\n",
    "    Apply a fully connected layer to x_tensor using weight and bias\n",
    "    : x_tensor: A 2-D tensor where the first dimension is batch size.\n",
    "    : num_outputs: The number of output that the new tensor should be.\n",
    "    : return: A 2-D tensor where the second dimension is num_outputs.\n",
    "    \"\"\"\n",
    "    W = tf.Variable(tf.truncated_normal([int(x_tensor.shape[1]), num_outputs], stddev=0.1))\n",
    "    b = tf.Variable(tf.zeros([num_outputs]))\n",
    "    x_tensor = tf.add(tf.matmul(x_tensor, W), b)\n",
    "    x_tensor = tf.nn.relu(x_tensor)\n",
    "    return x_tensor\n",
    "\n",
    "\"\"\"\n",
    "DON'T MODIFY ANYTHING IN THIS CELL THAT IS BELOW THIS LINE\n",
    "\"\"\"\n",
    "tests.test_fully_conn(fully_conn)"
   ]
  },
  {
   "cell_type": "markdown",
   "metadata": {},
   "source": [
    "### Output Layer\n",
    "Implement the `output` function to apply a fully connected layer to `x_tensor` with the shape (*Batch Size*, *num_outputs*). Shortcut option: you can use classes from the [TensorFlow Layers](https://www.tensorflow.org/api_docs/python/tf/layers) or [TensorFlow Layers (contrib)](https://www.tensorflow.org/api_guides/python/contrib.layers) packages for this layer. For more of a challenge, only use other TensorFlow packages.\n",
    "\n",
    "**Note:** Activation, softmax, or cross entropy should **not** be applied to this."
   ]
  },
  {
   "cell_type": "code",
   "execution_count": 7,
   "metadata": {},
   "outputs": [
    {
     "name": "stdout",
     "output_type": "stream",
     "text": [
      "Tests Passed\n"
     ]
    }
   ],
   "source": [
    "def output(x_tensor, num_outputs):\n",
    "    \"\"\"\n",
    "    Apply a output layer to x_tensor using weight and bias\n",
    "    : x_tensor: A 2-D tensor where the first dimension is batch size.\n",
    "    : num_outputs: The number of output that the new tensor should be.\n",
    "    : return: A 2-D tensor where the second dimension is num_outputs.\n",
    "    \"\"\"\n",
    "    W = tf.Variable(tf.truncated_normal([int(x_tensor.shape[1]), num_outputs], stddev=0.1))\n",
    "    b = tf.Variable(tf.zeros([num_outputs]))\n",
    "    x_tensor = tf.add(tf.matmul(x_tensor, W), b)\n",
    "    return x_tensor\n",
    "\n",
    "\"\"\"\n",
    "DON'T MODIFY ANYTHING IN THIS CELL THAT IS BELOW THIS LINE\n",
    "\"\"\"\n",
    "tests.test_output(output)"
   ]
  },
  {
   "cell_type": "markdown",
   "metadata": {},
   "source": [
    "### Create Convolutional Model\n",
    "Implement the function `conv_net` to create a convolutional neural network model. The function takes in a batch of images, `x`, and outputs logits.  Use the layers you created above to create this model:\n",
    "\n",
    "* Apply 1, 2, or 3 Convolution and Max Pool layers\n",
    "* Apply a Flatten Layer\n",
    "* Apply 1, 2, or 3 Fully Connected Layers\n",
    "* Apply an Output Layer\n",
    "* Return the output\n",
    "* Apply [TensorFlow's Dropout](https://www.tensorflow.org/api_docs/python/tf/nn/dropout) to one or more layers in the model using `keep_prob`. "
   ]
  },
  {
   "cell_type": "code",
   "execution_count": 8,
   "metadata": {},
   "outputs": [
    {
     "name": "stdout",
     "output_type": "stream",
     "text": [
      "Neural Network Built!\n"
     ]
    }
   ],
   "source": [
    "def conv_net(x, keep_prob):\n",
    "    \"\"\"\n",
    "    Create a convolutional neural network model\n",
    "    : x: Placeholder tensor that holds image data.\n",
    "    : keep_prob: Placeholder tensor that hold dropout keep probability.\n",
    "    : return: Tensor that represents logits\n",
    "    \"\"\"\n",
    "    # Apply 1, 2, or 3 Convolution and Max Pool layers\n",
    "    #    Play around with different number of outputs, kernel size and stride\n",
    "    # Function Definition from Above:\n",
    "    #    conv2d_maxpool(x_tensor, conv_num_outputs, conv_ksize, conv_strides, pool_ksize, pool_strides)\n",
    "    x = conv2d_maxpool(x, 32, [3, 3], [1, 1], [2, 2], [2, 2])\n",
    "    x = conv2d_maxpool(x, 64, [3, 3], [1, 1], [2, 2], [2, 2])\n",
    "    x = conv2d_maxpool(x, 128, [3, 3], [1, 1], [2, 2], [2, 2])\n",
    "\n",
    "    # Apply a Flatten Layer\n",
    "    # Function Definition from Above:\n",
    "    #   flatten(x_tensor)\n",
    "    x = flatten(x)\n",
    "\n",
    "    # Apply 1, 2, or 3 Fully Connected Layers\n",
    "    #    Play around with different number of outputs\n",
    "    # Function Definition from Above:\n",
    "    #   fully_conn(x_tensor, num_outputs)\n",
    "    x = fully_conn(x, 512)\n",
    "    x = tf.nn.dropout(x, keep_prob)\n",
    "    x = fully_conn(x, 512)\n",
    "    x = tf.nn.dropout(x, keep_prob)\n",
    "    x = fully_conn(x, 512)\n",
    "    \n",
    "    # Apply an Output Layer\n",
    "    #    Set this to the number of classes\n",
    "    # Function Definition from Above:\n",
    "    #   output(x_tensor, num_outputs)\n",
    "    x = output(x, 10)\n",
    "    \n",
    "    # return output\n",
    "    return x\n",
    "\n",
    "\n",
    "\"\"\"\n",
    "DON'T MODIFY ANYTHING IN THIS CELL THAT IS BELOW THIS LINE\n",
    "\"\"\"\n",
    "\n",
    "##############################\n",
    "## Build the Neural Network ##\n",
    "##############################\n",
    "\n",
    "# Remove previous weights, bias, inputs, etc..\n",
    "tf.reset_default_graph()\n",
    "\n",
    "# Inputs\n",
    "x = neural_net_image_input((32, 32, 3))\n",
    "y = neural_net_label_input(10)\n",
    "keep_prob = neural_net_keep_prob_input()\n",
    "\n",
    "# Model\n",
    "logits = conv_net(x, keep_prob)\n",
    "\n",
    "# Name logits Tensor, so that is can be loaded from disk after training\n",
    "logits = tf.identity(logits, name='logits')\n",
    "\n",
    "# Loss and Optimizer\n",
    "cost = tf.reduce_mean(tf.nn.softmax_cross_entropy_with_logits(logits=logits, labels=y))\n",
    "optimizer = tf.train.AdamOptimizer().minimize(cost)\n",
    "\n",
    "# Accuracy\n",
    "correct_pred = tf.equal(tf.argmax(logits, 1), tf.argmax(y, 1))\n",
    "accuracy = tf.reduce_mean(tf.cast(correct_pred, tf.float32), name='accuracy')\n",
    "\n",
    "tests.test_conv_net(conv_net)"
   ]
  },
  {
   "cell_type": "markdown",
   "metadata": {},
   "source": [
    "## Train the Neural Network\n",
    "### Single Optimization\n",
    "Implement the function `train_neural_network` to do a single optimization.  The optimization should use `optimizer` to optimize in `session` with a `feed_dict` of the following:\n",
    "* `x` for image input\n",
    "* `y` for labels\n",
    "* `keep_prob` for keep probability for dropout\n",
    "\n",
    "This function will be called for each batch, so `tf.global_variables_initializer()` has already been called.\n",
    "\n",
    "Note: Nothing needs to be returned. This function is only optimizing the neural network."
   ]
  },
  {
   "cell_type": "code",
   "execution_count": 9,
   "metadata": {},
   "outputs": [
    {
     "name": "stdout",
     "output_type": "stream",
     "text": [
      "Tests Passed\n"
     ]
    }
   ],
   "source": [
    "def train_neural_network(session, optimizer, keep_probability, feature_batch, label_batch):\n",
    "    \"\"\"\n",
    "    Optimize the session on a batch of images and labels\n",
    "    : session: Current TensorFlow session\n",
    "    : optimizer: TensorFlow optimizer function\n",
    "    : keep_probability: keep probability\n",
    "    : feature_batch: Batch of Numpy image data\n",
    "    : label_batch: Batch of Numpy label data\n",
    "    \"\"\"\n",
    "    session.run(optimizer, feed_dict={x: feature_batch, y: label_batch, keep_prob: keep_probability})\n",
    "\n",
    "\"\"\"\n",
    "DON'T MODIFY ANYTHING IN THIS CELL THAT IS BELOW THIS LINE\n",
    "\"\"\"\n",
    "tests.test_train_nn(train_neural_network)"
   ]
  },
  {
   "cell_type": "markdown",
   "metadata": {},
   "source": [
    "### Show Stats\n",
    "Implement the function `print_stats` to print loss and validation accuracy.  Use the global variables `valid_features` and `valid_labels` to calculate validation accuracy.  Use a keep probability of `1.0` to calculate the loss and validation accuracy."
   ]
  },
  {
   "cell_type": "code",
   "execution_count": 10,
   "metadata": {
    "collapsed": true
   },
   "outputs": [],
   "source": [
    "def print_stats(session, feature_batch, label_batch, cost, accuracy):\n",
    "    \"\"\"\n",
    "    Print information about loss and validation accuracy\n",
    "    : session: Current TensorFlow session\n",
    "    : feature_batch: Batch of Numpy image data\n",
    "    : label_batch: Batch of Numpy label data\n",
    "    : cost: TensorFlow cost function\n",
    "    : accuracy: TensorFlow accuracy function\n",
    "    \"\"\"\n",
    "    loss = session.run(cost, feed_dict={x: feature_batch, y: label_batch, keep_prob: 1.0})\n",
    "    valid_acc = session.run(accuracy, feed_dict={x: valid_features, y: valid_labels, keep_prob: 1.0})\n",
    "\n",
    "    print('Loss: {:>10.4f} Validation Accuracy: {:1.6f}'.format(loss, valid_acc))"
   ]
  },
  {
   "cell_type": "markdown",
   "metadata": {},
   "source": [
    "### Hyperparameters\n",
    "Tune the following parameters:\n",
    "* Set `epochs` to the number of iterations until the network stops learning or start overfitting\n",
    "* Set `batch_size` to the highest number that your machine has memory for.  Most people set them to common sizes of memory:\n",
    " * 64\n",
    " * 128\n",
    " * 256\n",
    " * ...\n",
    "* Set `keep_probability` to the probability of keeping a node using dropout"
   ]
  },
  {
   "cell_type": "code",
   "execution_count": 11,
   "metadata": {
    "collapsed": true
   },
   "outputs": [],
   "source": [
    "# Tune Parameters\n",
    "epochs = 64\n",
    "batch_size = 1024\n",
    "keep_probability = 0.5"
   ]
  },
  {
   "cell_type": "markdown",
   "metadata": {},
   "source": [
    "### Train on a Single CIFAR-10 Batch\n",
    "Instead of training the neural network on all the CIFAR-10 batches of data, let's use a single batch. This should save time while you iterate on the model to get a better accuracy.  Once the final validation accuracy is 50% or greater, run the model on all the data in the next section."
   ]
  },
  {
   "cell_type": "code",
   "execution_count": 12,
   "metadata": {},
   "outputs": [
    {
     "name": "stdout",
     "output_type": "stream",
     "text": [
      "Checking the Training on a Single Batch...\n",
      "Epoch  1, CIFAR-10 Batch 1:  Loss:     2.2704 Validation Accuracy: 0.131600\n",
      "Epoch  2, CIFAR-10 Batch 1:  Loss:     2.2600 Validation Accuracy: 0.177400\n",
      "Epoch  3, CIFAR-10 Batch 1:  Loss:     2.1752 Validation Accuracy: 0.247200\n",
      "Epoch  4, CIFAR-10 Batch 1:  Loss:     2.0236 Validation Accuracy: 0.299600\n",
      "Epoch  5, CIFAR-10 Batch 1:  Loss:     1.8968 Validation Accuracy: 0.326200\n",
      "Epoch  6, CIFAR-10 Batch 1:  Loss:     1.7819 Validation Accuracy: 0.353000\n",
      "Epoch  7, CIFAR-10 Batch 1:  Loss:     1.6996 Validation Accuracy: 0.371000\n",
      "Epoch  8, CIFAR-10 Batch 1:  Loss:     1.6080 Validation Accuracy: 0.397200\n",
      "Epoch  9, CIFAR-10 Batch 1:  Loss:     1.5223 Validation Accuracy: 0.422000\n",
      "Epoch 10, CIFAR-10 Batch 1:  Loss:     1.4875 Validation Accuracy: 0.426800\n",
      "Epoch 11, CIFAR-10 Batch 1:  Loss:     1.4160 Validation Accuracy: 0.453200\n",
      "Epoch 12, CIFAR-10 Batch 1:  Loss:     1.3635 Validation Accuracy: 0.463200\n",
      "Epoch 13, CIFAR-10 Batch 1:  Loss:     1.3924 Validation Accuracy: 0.455600\n",
      "Epoch 14, CIFAR-10 Batch 1:  Loss:     1.2636 Validation Accuracy: 0.487400\n",
      "Epoch 15, CIFAR-10 Batch 1:  Loss:     1.2396 Validation Accuracy: 0.488400\n",
      "Epoch 16, CIFAR-10 Batch 1:  Loss:     1.1823 Validation Accuracy: 0.503400\n",
      "Epoch 17, CIFAR-10 Batch 1:  Loss:     1.1521 Validation Accuracy: 0.501200\n",
      "Epoch 18, CIFAR-10 Batch 1:  Loss:     1.1072 Validation Accuracy: 0.515200\n",
      "Epoch 19, CIFAR-10 Batch 1:  Loss:     1.0630 Validation Accuracy: 0.529800\n",
      "Epoch 20, CIFAR-10 Batch 1:  Loss:     1.0118 Validation Accuracy: 0.537000\n",
      "Epoch 21, CIFAR-10 Batch 1:  Loss:     0.9702 Validation Accuracy: 0.538000\n",
      "Epoch 22, CIFAR-10 Batch 1:  Loss:     0.9539 Validation Accuracy: 0.542400\n",
      "Epoch 23, CIFAR-10 Batch 1:  Loss:     0.9336 Validation Accuracy: 0.542800\n",
      "Epoch 24, CIFAR-10 Batch 1:  Loss:     0.8508 Validation Accuracy: 0.551600\n",
      "Epoch 25, CIFAR-10 Batch 1:  Loss:     0.8111 Validation Accuracy: 0.559800\n",
      "Epoch 26, CIFAR-10 Batch 1:  Loss:     0.7805 Validation Accuracy: 0.552800\n",
      "Epoch 27, CIFAR-10 Batch 1:  Loss:     0.7683 Validation Accuracy: 0.555000\n",
      "Epoch 28, CIFAR-10 Batch 1:  Loss:     0.7362 Validation Accuracy: 0.557600\n",
      "Epoch 29, CIFAR-10 Batch 1:  Loss:     0.7209 Validation Accuracy: 0.561200\n",
      "Epoch 30, CIFAR-10 Batch 1:  Loss:     0.6623 Validation Accuracy: 0.563600\n",
      "Epoch 31, CIFAR-10 Batch 1:  Loss:     0.6505 Validation Accuracy: 0.566400\n",
      "Epoch 32, CIFAR-10 Batch 1:  Loss:     0.6526 Validation Accuracy: 0.551800\n",
      "Epoch 33, CIFAR-10 Batch 1:  Loss:     0.6109 Validation Accuracy: 0.568400\n",
      "Epoch 34, CIFAR-10 Batch 1:  Loss:     0.6235 Validation Accuracy: 0.550800\n",
      "Epoch 35, CIFAR-10 Batch 1:  Loss:     0.5658 Validation Accuracy: 0.553800\n",
      "Epoch 36, CIFAR-10 Batch 1:  Loss:     0.4806 Validation Accuracy: 0.586400\n",
      "Epoch 37, CIFAR-10 Batch 1:  Loss:     0.4361 Validation Accuracy: 0.586600\n",
      "Epoch 38, CIFAR-10 Batch 1:  Loss:     0.4056 Validation Accuracy: 0.584600\n",
      "Epoch 39, CIFAR-10 Batch 1:  Loss:     0.3719 Validation Accuracy: 0.589000\n",
      "Epoch 40, CIFAR-10 Batch 1:  Loss:     0.3362 Validation Accuracy: 0.593200\n",
      "Epoch 41, CIFAR-10 Batch 1:  Loss:     0.3084 Validation Accuracy: 0.586200\n",
      "Epoch 42, CIFAR-10 Batch 1:  Loss:     0.2858 Validation Accuracy: 0.591000\n",
      "Epoch 43, CIFAR-10 Batch 1:  Loss:     0.2597 Validation Accuracy: 0.590400\n",
      "Epoch 44, CIFAR-10 Batch 1:  Loss:     0.2534 Validation Accuracy: 0.590400\n",
      "Epoch 45, CIFAR-10 Batch 1:  Loss:     0.2347 Validation Accuracy: 0.589400\n",
      "Epoch 46, CIFAR-10 Batch 1:  Loss:     0.2238 Validation Accuracy: 0.591800\n",
      "Epoch 47, CIFAR-10 Batch 1:  Loss:     0.2026 Validation Accuracy: 0.588400\n",
      "Epoch 48, CIFAR-10 Batch 1:  Loss:     0.1951 Validation Accuracy: 0.588200\n",
      "Epoch 49, CIFAR-10 Batch 1:  Loss:     0.1908 Validation Accuracy: 0.588000\n",
      "Epoch 50, CIFAR-10 Batch 1:  Loss:     0.1835 Validation Accuracy: 0.586200\n",
      "Epoch 51, CIFAR-10 Batch 1:  Loss:     0.1839 Validation Accuracy: 0.585800\n",
      "Epoch 52, CIFAR-10 Batch 1:  Loss:     0.1462 Validation Accuracy: 0.599800\n",
      "Epoch 53, CIFAR-10 Batch 1:  Loss:     0.1569 Validation Accuracy: 0.577400\n",
      "Epoch 54, CIFAR-10 Batch 1:  Loss:     0.1199 Validation Accuracy: 0.598400\n",
      "Epoch 55, CIFAR-10 Batch 1:  Loss:     0.1164 Validation Accuracy: 0.588400\n",
      "Epoch 56, CIFAR-10 Batch 1:  Loss:     0.1461 Validation Accuracy: 0.571400\n",
      "Epoch 57, CIFAR-10 Batch 1:  Loss:     0.1094 Validation Accuracy: 0.573800\n",
      "Epoch 58, CIFAR-10 Batch 1:  Loss:     0.0931 Validation Accuracy: 0.594600\n",
      "Epoch 59, CIFAR-10 Batch 1:  Loss:     0.0979 Validation Accuracy: 0.594400\n",
      "Epoch 60, CIFAR-10 Batch 1:  Loss:     0.0740 Validation Accuracy: 0.606400\n",
      "Epoch 61, CIFAR-10 Batch 1:  Loss:     0.0699 Validation Accuracy: 0.593400\n",
      "Epoch 62, CIFAR-10 Batch 1:  Loss:     0.0564 Validation Accuracy: 0.596800\n",
      "Epoch 63, CIFAR-10 Batch 1:  Loss:     0.0544 Validation Accuracy: 0.596800\n",
      "Epoch 64, CIFAR-10 Batch 1:  Loss:     0.0587 Validation Accuracy: 0.590600\n"
     ]
    }
   ],
   "source": [
    "\"\"\"\n",
    "DON'T MODIFY ANYTHING IN THIS CELL\n",
    "\"\"\"\n",
    "print('Checking the Training on a Single Batch...')\n",
    "with tf.Session() as sess:\n",
    "    # Initializing the variables\n",
    "    sess.run(tf.global_variables_initializer())\n",
    "    \n",
    "    # Training cycle\n",
    "    for epoch in range(epochs):\n",
    "        batch_i = 1\n",
    "        for batch_features, batch_labels in helper.load_preprocess_training_batch(batch_i, batch_size):\n",
    "            train_neural_network(sess, optimizer, keep_probability, batch_features, batch_labels)\n",
    "        print('Epoch {:>2}, CIFAR-10 Batch {}:  '.format(epoch + 1, batch_i), end='')\n",
    "        print_stats(sess, batch_features, batch_labels, cost, accuracy)"
   ]
  },
  {
   "cell_type": "markdown",
   "metadata": {},
   "source": [
    "### Fully Train the Model\n",
    "Now that you got a good accuracy with a single CIFAR-10 batch, try it with all five batches."
   ]
  },
  {
   "cell_type": "code",
   "execution_count": 13,
   "metadata": {},
   "outputs": [
    {
     "name": "stdout",
     "output_type": "stream",
     "text": [
      "Training...\n",
      "Epoch  1, CIFAR-10 Batch 1:  Loss:     2.2714 Validation Accuracy: 0.112400\n",
      "Epoch  1, CIFAR-10 Batch 2:  Loss:     2.2189 Validation Accuracy: 0.238400\n",
      "Epoch  1, CIFAR-10 Batch 3:  Loss:     2.1157 Validation Accuracy: 0.273600\n",
      "Epoch  1, CIFAR-10 Batch 4:  Loss:     1.9413 Validation Accuracy: 0.303000\n",
      "Epoch  1, CIFAR-10 Batch 5:  Loss:     1.8876 Validation Accuracy: 0.351400\n",
      "Epoch  2, CIFAR-10 Batch 1:  Loss:     1.7911 Validation Accuracy: 0.358800\n",
      "Epoch  2, CIFAR-10 Batch 2:  Loss:     1.7516 Validation Accuracy: 0.380200\n",
      "Epoch  2, CIFAR-10 Batch 3:  Loss:     1.6116 Validation Accuracy: 0.395600\n",
      "Epoch  2, CIFAR-10 Batch 4:  Loss:     1.5640 Validation Accuracy: 0.414600\n",
      "Epoch  2, CIFAR-10 Batch 5:  Loss:     1.5335 Validation Accuracy: 0.425000\n",
      "Epoch  3, CIFAR-10 Batch 1:  Loss:     1.4858 Validation Accuracy: 0.447800\n",
      "Epoch  3, CIFAR-10 Batch 2:  Loss:     1.5155 Validation Accuracy: 0.447200\n",
      "Epoch  3, CIFAR-10 Batch 3:  Loss:     1.3807 Validation Accuracy: 0.455400\n",
      "Epoch  3, CIFAR-10 Batch 4:  Loss:     1.4001 Validation Accuracy: 0.465000\n",
      "Epoch  3, CIFAR-10 Batch 5:  Loss:     1.3680 Validation Accuracy: 0.475800\n",
      "Epoch  4, CIFAR-10 Batch 1:  Loss:     1.3505 Validation Accuracy: 0.480600\n",
      "Epoch  4, CIFAR-10 Batch 2:  Loss:     1.3960 Validation Accuracy: 0.486600\n",
      "Epoch  4, CIFAR-10 Batch 3:  Loss:     1.2558 Validation Accuracy: 0.499600\n",
      "Epoch  4, CIFAR-10 Batch 4:  Loss:     1.2878 Validation Accuracy: 0.508200\n",
      "Epoch  4, CIFAR-10 Batch 5:  Loss:     1.2800 Validation Accuracy: 0.512800\n",
      "Epoch  5, CIFAR-10 Batch 1:  Loss:     1.2601 Validation Accuracy: 0.502600\n",
      "Epoch  5, CIFAR-10 Batch 2:  Loss:     1.2481 Validation Accuracy: 0.524400\n",
      "Epoch  5, CIFAR-10 Batch 3:  Loss:     1.1644 Validation Accuracy: 0.527000\n",
      "Epoch  5, CIFAR-10 Batch 4:  Loss:     1.1789 Validation Accuracy: 0.533200\n",
      "Epoch  5, CIFAR-10 Batch 5:  Loss:     1.1664 Validation Accuracy: 0.545400\n",
      "Epoch  6, CIFAR-10 Batch 1:  Loss:     1.1458 Validation Accuracy: 0.548600\n",
      "Epoch  6, CIFAR-10 Batch 2:  Loss:     1.1692 Validation Accuracy: 0.553400\n",
      "Epoch  6, CIFAR-10 Batch 3:  Loss:     1.1082 Validation Accuracy: 0.554800\n",
      "Epoch  6, CIFAR-10 Batch 4:  Loss:     1.0906 Validation Accuracy: 0.568800\n",
      "Epoch  6, CIFAR-10 Batch 5:  Loss:     1.1126 Validation Accuracy: 0.561200\n",
      "Epoch  7, CIFAR-10 Batch 1:  Loss:     1.1045 Validation Accuracy: 0.574400\n",
      "Epoch  7, CIFAR-10 Batch 2:  Loss:     1.1404 Validation Accuracy: 0.546000\n",
      "Epoch  7, CIFAR-10 Batch 3:  Loss:     1.0313 Validation Accuracy: 0.575200\n",
      "Epoch  7, CIFAR-10 Batch 4:  Loss:     1.0193 Validation Accuracy: 0.579800\n",
      "Epoch  7, CIFAR-10 Batch 5:  Loss:     1.0196 Validation Accuracy: 0.583000\n",
      "Epoch  8, CIFAR-10 Batch 1:  Loss:     1.0287 Validation Accuracy: 0.588000\n",
      "Epoch  8, CIFAR-10 Batch 2:  Loss:     1.0411 Validation Accuracy: 0.591200\n",
      "Epoch  8, CIFAR-10 Batch 3:  Loss:     1.0094 Validation Accuracy: 0.583800\n",
      "Epoch  8, CIFAR-10 Batch 4:  Loss:     0.9330 Validation Accuracy: 0.607800\n",
      "Epoch  8, CIFAR-10 Batch 5:  Loss:     0.9509 Validation Accuracy: 0.605400\n",
      "Epoch  9, CIFAR-10 Batch 1:  Loss:     0.9870 Validation Accuracy: 0.600600\n",
      "Epoch  9, CIFAR-10 Batch 2:  Loss:     0.9653 Validation Accuracy: 0.617400\n",
      "Epoch  9, CIFAR-10 Batch 3:  Loss:     0.8957 Validation Accuracy: 0.620800\n",
      "Epoch  9, CIFAR-10 Batch 4:  Loss:     0.8439 Validation Accuracy: 0.625400\n",
      "Epoch  9, CIFAR-10 Batch 5:  Loss:     0.8881 Validation Accuracy: 0.610200\n",
      "Epoch 10, CIFAR-10 Batch 1:  Loss:     0.9253 Validation Accuracy: 0.618200\n",
      "Epoch 10, CIFAR-10 Batch 2:  Loss:     0.9225 Validation Accuracy: 0.628200\n",
      "Epoch 10, CIFAR-10 Batch 3:  Loss:     0.8527 Validation Accuracy: 0.623800\n",
      "Epoch 10, CIFAR-10 Batch 4:  Loss:     0.8002 Validation Accuracy: 0.634400\n",
      "Epoch 10, CIFAR-10 Batch 5:  Loss:     0.8083 Validation Accuracy: 0.633800\n",
      "Epoch 11, CIFAR-10 Batch 1:  Loss:     0.8900 Validation Accuracy: 0.625400\n",
      "Epoch 11, CIFAR-10 Batch 2:  Loss:     0.8437 Validation Accuracy: 0.639400\n",
      "Epoch 11, CIFAR-10 Batch 3:  Loss:     0.8028 Validation Accuracy: 0.642800\n",
      "Epoch 11, CIFAR-10 Batch 4:  Loss:     0.7883 Validation Accuracy: 0.635600\n",
      "Epoch 11, CIFAR-10 Batch 5:  Loss:     0.7669 Validation Accuracy: 0.640800\n",
      "Epoch 12, CIFAR-10 Batch 1:  Loss:     0.8300 Validation Accuracy: 0.632000\n",
      "Epoch 12, CIFAR-10 Batch 2:  Loss:     0.8258 Validation Accuracy: 0.641400\n",
      "Epoch 12, CIFAR-10 Batch 3:  Loss:     0.7490 Validation Accuracy: 0.649800\n",
      "Epoch 12, CIFAR-10 Batch 4:  Loss:     0.7121 Validation Accuracy: 0.650000\n",
      "Epoch 12, CIFAR-10 Batch 5:  Loss:     0.7321 Validation Accuracy: 0.652200\n",
      "Epoch 13, CIFAR-10 Batch 1:  Loss:     0.7625 Validation Accuracy: 0.656800\n",
      "Epoch 13, CIFAR-10 Batch 2:  Loss:     0.7568 Validation Accuracy: 0.647200\n",
      "Epoch 13, CIFAR-10 Batch 3:  Loss:     0.7504 Validation Accuracy: 0.641800\n",
      "Epoch 13, CIFAR-10 Batch 4:  Loss:     0.6802 Validation Accuracy: 0.658000\n",
      "Epoch 13, CIFAR-10 Batch 5:  Loss:     0.7118 Validation Accuracy: 0.653600\n",
      "Epoch 14, CIFAR-10 Batch 1:  Loss:     0.7346 Validation Accuracy: 0.646800\n",
      "Epoch 14, CIFAR-10 Batch 2:  Loss:     0.7357 Validation Accuracy: 0.655800\n",
      "Epoch 14, CIFAR-10 Batch 3:  Loss:     0.6966 Validation Accuracy: 0.650000\n",
      "Epoch 14, CIFAR-10 Batch 4:  Loss:     0.6463 Validation Accuracy: 0.664000\n",
      "Epoch 14, CIFAR-10 Batch 5:  Loss:     0.6800 Validation Accuracy: 0.651200\n",
      "Epoch 15, CIFAR-10 Batch 1:  Loss:     0.6947 Validation Accuracy: 0.660400\n",
      "Epoch 15, CIFAR-10 Batch 2:  Loss:     0.6701 Validation Accuracy: 0.669400\n",
      "Epoch 15, CIFAR-10 Batch 3:  Loss:     0.6168 Validation Accuracy: 0.677000\n",
      "Epoch 15, CIFAR-10 Batch 4:  Loss:     0.6010 Validation Accuracy: 0.670600\n",
      "Epoch 15, CIFAR-10 Batch 5:  Loss:     0.5989 Validation Accuracy: 0.673200\n",
      "Epoch 16, CIFAR-10 Batch 1:  Loss:     0.6511 Validation Accuracy: 0.670800\n",
      "Epoch 16, CIFAR-10 Batch 2:  Loss:     0.6347 Validation Accuracy: 0.672000\n",
      "Epoch 16, CIFAR-10 Batch 3:  Loss:     0.6156 Validation Accuracy: 0.669800\n",
      "Epoch 16, CIFAR-10 Batch 4:  Loss:     0.5654 Validation Accuracy: 0.672600\n",
      "Epoch 16, CIFAR-10 Batch 5:  Loss:     0.5621 Validation Accuracy: 0.671200\n",
      "Epoch 17, CIFAR-10 Batch 1:  Loss:     0.6195 Validation Accuracy: 0.679800\n",
      "Epoch 17, CIFAR-10 Batch 2:  Loss:     0.5960 Validation Accuracy: 0.679600\n",
      "Epoch 17, CIFAR-10 Batch 3:  Loss:     0.5642 Validation Accuracy: 0.681800\n",
      "Epoch 17, CIFAR-10 Batch 4:  Loss:     0.5333 Validation Accuracy: 0.677800\n",
      "Epoch 17, CIFAR-10 Batch 5:  Loss:     0.5301 Validation Accuracy: 0.674800\n",
      "Epoch 18, CIFAR-10 Batch 1:  Loss:     0.5673 Validation Accuracy: 0.678000\n",
      "Epoch 18, CIFAR-10 Batch 2:  Loss:     0.5599 Validation Accuracy: 0.691600\n",
      "Epoch 18, CIFAR-10 Batch 3:  Loss:     0.4997 Validation Accuracy: 0.694400\n",
      "Epoch 18, CIFAR-10 Batch 4:  Loss:     0.5177 Validation Accuracy: 0.676000\n",
      "Epoch 18, CIFAR-10 Batch 5:  Loss:     0.4726 Validation Accuracy: 0.687800\n",
      "Epoch 19, CIFAR-10 Batch 1:  Loss:     0.5552 Validation Accuracy: 0.678000\n",
      "Epoch 19, CIFAR-10 Batch 2:  Loss:     0.5495 Validation Accuracy: 0.672800\n",
      "Epoch 19, CIFAR-10 Batch 3:  Loss:     0.5155 Validation Accuracy: 0.682200\n",
      "Epoch 19, CIFAR-10 Batch 4:  Loss:     0.4678 Validation Accuracy: 0.691600\n",
      "Epoch 19, CIFAR-10 Batch 5:  Loss:     0.4658 Validation Accuracy: 0.690600\n",
      "Epoch 20, CIFAR-10 Batch 1:  Loss:     0.5086 Validation Accuracy: 0.690000\n",
      "Epoch 20, CIFAR-10 Batch 2:  Loss:     0.4856 Validation Accuracy: 0.689000\n",
      "Epoch 20, CIFAR-10 Batch 3:  Loss:     0.4613 Validation Accuracy: 0.686400\n",
      "Epoch 20, CIFAR-10 Batch 4:  Loss:     0.5020 Validation Accuracy: 0.669000\n",
      "Epoch 20, CIFAR-10 Batch 5:  Loss:     0.4355 Validation Accuracy: 0.679200\n",
      "Epoch 21, CIFAR-10 Batch 1:  Loss:     0.4765 Validation Accuracy: 0.682200\n",
      "Epoch 21, CIFAR-10 Batch 2:  Loss:     0.4594 Validation Accuracy: 0.698600\n",
      "Epoch 21, CIFAR-10 Batch 3:  Loss:     0.4383 Validation Accuracy: 0.687400\n",
      "Epoch 21, CIFAR-10 Batch 4:  Loss:     0.4156 Validation Accuracy: 0.686800\n",
      "Epoch 21, CIFAR-10 Batch 5:  Loss:     0.3930 Validation Accuracy: 0.692200\n",
      "Epoch 22, CIFAR-10 Batch 1:  Loss:     0.4528 Validation Accuracy: 0.678400\n",
      "Epoch 22, CIFAR-10 Batch 2:  Loss:     0.4211 Validation Accuracy: 0.693000\n",
      "Epoch 22, CIFAR-10 Batch 3:  Loss:     0.3911 Validation Accuracy: 0.698800\n"
     ]
    },
    {
     "name": "stdout",
     "output_type": "stream",
     "text": [
      "Epoch 22, CIFAR-10 Batch 4:  Loss:     0.3789 Validation Accuracy: 0.688600\n",
      "Epoch 22, CIFAR-10 Batch 5:  Loss:     0.3909 Validation Accuracy: 0.690600\n",
      "Epoch 23, CIFAR-10 Batch 1:  Loss:     0.4157 Validation Accuracy: 0.688600\n",
      "Epoch 23, CIFAR-10 Batch 2:  Loss:     0.4003 Validation Accuracy: 0.697400\n",
      "Epoch 23, CIFAR-10 Batch 3:  Loss:     0.3771 Validation Accuracy: 0.696600\n",
      "Epoch 23, CIFAR-10 Batch 4:  Loss:     0.3550 Validation Accuracy: 0.698800\n",
      "Epoch 23, CIFAR-10 Batch 5:  Loss:     0.3591 Validation Accuracy: 0.692800\n",
      "Epoch 24, CIFAR-10 Batch 1:  Loss:     0.4059 Validation Accuracy: 0.692800\n",
      "Epoch 24, CIFAR-10 Batch 2:  Loss:     0.4053 Validation Accuracy: 0.688400\n",
      "Epoch 24, CIFAR-10 Batch 3:  Loss:     0.3699 Validation Accuracy: 0.685800\n",
      "Epoch 24, CIFAR-10 Batch 4:  Loss:     0.3338 Validation Accuracy: 0.689400\n",
      "Epoch 24, CIFAR-10 Batch 5:  Loss:     0.3339 Validation Accuracy: 0.689200\n",
      "Epoch 25, CIFAR-10 Batch 1:  Loss:     0.3840 Validation Accuracy: 0.690000\n",
      "Epoch 25, CIFAR-10 Batch 2:  Loss:     0.3388 Validation Accuracy: 0.698000\n",
      "Epoch 25, CIFAR-10 Batch 3:  Loss:     0.3171 Validation Accuracy: 0.701400\n",
      "Epoch 25, CIFAR-10 Batch 4:  Loss:     0.3118 Validation Accuracy: 0.694800\n",
      "Epoch 25, CIFAR-10 Batch 5:  Loss:     0.3088 Validation Accuracy: 0.693800\n",
      "Epoch 26, CIFAR-10 Batch 1:  Loss:     0.3280 Validation Accuracy: 0.698000\n",
      "Epoch 26, CIFAR-10 Batch 2:  Loss:     0.3220 Validation Accuracy: 0.701400\n",
      "Epoch 26, CIFAR-10 Batch 3:  Loss:     0.3039 Validation Accuracy: 0.695200\n",
      "Epoch 26, CIFAR-10 Batch 4:  Loss:     0.3019 Validation Accuracy: 0.689000\n",
      "Epoch 26, CIFAR-10 Batch 5:  Loss:     0.3229 Validation Accuracy: 0.686000\n",
      "Epoch 27, CIFAR-10 Batch 1:  Loss:     0.3075 Validation Accuracy: 0.695200\n",
      "Epoch 27, CIFAR-10 Batch 2:  Loss:     0.3381 Validation Accuracy: 0.697200\n",
      "Epoch 27, CIFAR-10 Batch 3:  Loss:     0.3527 Validation Accuracy: 0.677400\n",
      "Epoch 27, CIFAR-10 Batch 4:  Loss:     0.3416 Validation Accuracy: 0.681600\n",
      "Epoch 27, CIFAR-10 Batch 5:  Loss:     0.3104 Validation Accuracy: 0.687200\n",
      "Epoch 28, CIFAR-10 Batch 1:  Loss:     0.3350 Validation Accuracy: 0.694400\n",
      "Epoch 28, CIFAR-10 Batch 2:  Loss:     0.3244 Validation Accuracy: 0.704000\n",
      "Epoch 28, CIFAR-10 Batch 3:  Loss:     0.2794 Validation Accuracy: 0.703000\n",
      "Epoch 28, CIFAR-10 Batch 4:  Loss:     0.2542 Validation Accuracy: 0.703000\n",
      "Epoch 28, CIFAR-10 Batch 5:  Loss:     0.2635 Validation Accuracy: 0.697800\n",
      "Epoch 29, CIFAR-10 Batch 1:  Loss:     0.3075 Validation Accuracy: 0.692400\n",
      "Epoch 29, CIFAR-10 Batch 2:  Loss:     0.2698 Validation Accuracy: 0.708400\n",
      "Epoch 29, CIFAR-10 Batch 3:  Loss:     0.2832 Validation Accuracy: 0.697600\n",
      "Epoch 29, CIFAR-10 Batch 4:  Loss:     0.2510 Validation Accuracy: 0.702400\n",
      "Epoch 29, CIFAR-10 Batch 5:  Loss:     0.2874 Validation Accuracy: 0.685800\n",
      "Epoch 30, CIFAR-10 Batch 1:  Loss:     0.2782 Validation Accuracy: 0.697000\n",
      "Epoch 30, CIFAR-10 Batch 2:  Loss:     0.2751 Validation Accuracy: 0.696800\n",
      "Epoch 30, CIFAR-10 Batch 3:  Loss:     0.2597 Validation Accuracy: 0.690000\n",
      "Epoch 30, CIFAR-10 Batch 4:  Loss:     0.2392 Validation Accuracy: 0.697000\n",
      "Epoch 30, CIFAR-10 Batch 5:  Loss:     0.2274 Validation Accuracy: 0.700200\n",
      "Epoch 31, CIFAR-10 Batch 1:  Loss:     0.2634 Validation Accuracy: 0.705000\n",
      "Epoch 31, CIFAR-10 Batch 2:  Loss:     0.2445 Validation Accuracy: 0.705600\n",
      "Epoch 31, CIFAR-10 Batch 3:  Loss:     0.2392 Validation Accuracy: 0.698000\n",
      "Epoch 31, CIFAR-10 Batch 4:  Loss:     0.2335 Validation Accuracy: 0.681000\n",
      "Epoch 31, CIFAR-10 Batch 5:  Loss:     0.2154 Validation Accuracy: 0.691200\n",
      "Epoch 32, CIFAR-10 Batch 1:  Loss:     0.2251 Validation Accuracy: 0.700600\n",
      "Epoch 32, CIFAR-10 Batch 2:  Loss:     0.2251 Validation Accuracy: 0.707800\n",
      "Epoch 32, CIFAR-10 Batch 3:  Loss:     0.2298 Validation Accuracy: 0.706200\n",
      "Epoch 32, CIFAR-10 Batch 4:  Loss:     0.2028 Validation Accuracy: 0.697200\n",
      "Epoch 32, CIFAR-10 Batch 5:  Loss:     0.1981 Validation Accuracy: 0.698400\n",
      "Epoch 33, CIFAR-10 Batch 1:  Loss:     0.2336 Validation Accuracy: 0.703800\n",
      "Epoch 33, CIFAR-10 Batch 2:  Loss:     0.2254 Validation Accuracy: 0.694000\n",
      "Epoch 33, CIFAR-10 Batch 3:  Loss:     0.2253 Validation Accuracy: 0.699400\n",
      "Epoch 33, CIFAR-10 Batch 4:  Loss:     0.1942 Validation Accuracy: 0.697800\n",
      "Epoch 33, CIFAR-10 Batch 5:  Loss:     0.1781 Validation Accuracy: 0.694200\n",
      "Epoch 34, CIFAR-10 Batch 1:  Loss:     0.2231 Validation Accuracy: 0.706200\n",
      "Epoch 34, CIFAR-10 Batch 2:  Loss:     0.2601 Validation Accuracy: 0.685400\n",
      "Epoch 34, CIFAR-10 Batch 3:  Loss:     0.2251 Validation Accuracy: 0.699000\n",
      "Epoch 34, CIFAR-10 Batch 4:  Loss:     0.1863 Validation Accuracy: 0.700800\n",
      "Epoch 34, CIFAR-10 Batch 5:  Loss:     0.1915 Validation Accuracy: 0.684600\n",
      "Epoch 35, CIFAR-10 Batch 1:  Loss:     0.2680 Validation Accuracy: 0.685000\n",
      "Epoch 35, CIFAR-10 Batch 2:  Loss:     0.2332 Validation Accuracy: 0.692600\n",
      "Epoch 35, CIFAR-10 Batch 3:  Loss:     0.1595 Validation Accuracy: 0.713000\n",
      "Epoch 35, CIFAR-10 Batch 4:  Loss:     0.1693 Validation Accuracy: 0.702800\n",
      "Epoch 35, CIFAR-10 Batch 5:  Loss:     0.1705 Validation Accuracy: 0.687000\n",
      "Epoch 36, CIFAR-10 Batch 1:  Loss:     0.2244 Validation Accuracy: 0.697800\n",
      "Epoch 36, CIFAR-10 Batch 2:  Loss:     0.1969 Validation Accuracy: 0.694400\n",
      "Epoch 36, CIFAR-10 Batch 3:  Loss:     0.1586 Validation Accuracy: 0.710800\n",
      "Epoch 36, CIFAR-10 Batch 4:  Loss:     0.1324 Validation Accuracy: 0.710400\n",
      "Epoch 36, CIFAR-10 Batch 5:  Loss:     0.1515 Validation Accuracy: 0.689200\n",
      "Epoch 37, CIFAR-10 Batch 1:  Loss:     0.1650 Validation Accuracy: 0.713600\n",
      "Epoch 37, CIFAR-10 Batch 2:  Loss:     0.1697 Validation Accuracy: 0.697200\n",
      "Epoch 37, CIFAR-10 Batch 3:  Loss:     0.1587 Validation Accuracy: 0.710400\n",
      "Epoch 37, CIFAR-10 Batch 4:  Loss:     0.1488 Validation Accuracy: 0.716200\n",
      "Epoch 37, CIFAR-10 Batch 5:  Loss:     0.1414 Validation Accuracy: 0.700600\n",
      "Epoch 38, CIFAR-10 Batch 1:  Loss:     0.1535 Validation Accuracy: 0.709600\n",
      "Epoch 38, CIFAR-10 Batch 2:  Loss:     0.1491 Validation Accuracy: 0.708600\n",
      "Epoch 38, CIFAR-10 Batch 3:  Loss:     0.1320 Validation Accuracy: 0.717000\n",
      "Epoch 38, CIFAR-10 Batch 4:  Loss:     0.1293 Validation Accuracy: 0.707400\n",
      "Epoch 38, CIFAR-10 Batch 5:  Loss:     0.1177 Validation Accuracy: 0.712000\n",
      "Epoch 39, CIFAR-10 Batch 1:  Loss:     0.1464 Validation Accuracy: 0.704400\n",
      "Epoch 39, CIFAR-10 Batch 2:  Loss:     0.1499 Validation Accuracy: 0.716400\n",
      "Epoch 39, CIFAR-10 Batch 3:  Loss:     0.1308 Validation Accuracy: 0.705400\n",
      "Epoch 39, CIFAR-10 Batch 4:  Loss:     0.1234 Validation Accuracy: 0.707200\n",
      "Epoch 39, CIFAR-10 Batch 5:  Loss:     0.1292 Validation Accuracy: 0.708200\n",
      "Epoch 40, CIFAR-10 Batch 1:  Loss:     0.1421 Validation Accuracy: 0.697200\n",
      "Epoch 40, CIFAR-10 Batch 2:  Loss:     0.1402 Validation Accuracy: 0.710000\n",
      "Epoch 40, CIFAR-10 Batch 3:  Loss:     0.1333 Validation Accuracy: 0.693600\n",
      "Epoch 40, CIFAR-10 Batch 4:  Loss:     0.1042 Validation Accuracy: 0.708800\n",
      "Epoch 40, CIFAR-10 Batch 5:  Loss:     0.1013 Validation Accuracy: 0.712200\n",
      "Epoch 41, CIFAR-10 Batch 1:  Loss:     0.1126 Validation Accuracy: 0.710800\n",
      "Epoch 41, CIFAR-10 Batch 2:  Loss:     0.1144 Validation Accuracy: 0.716000\n",
      "Epoch 41, CIFAR-10 Batch 3:  Loss:     0.0917 Validation Accuracy: 0.703600\n",
      "Epoch 41, CIFAR-10 Batch 4:  Loss:     0.0909 Validation Accuracy: 0.707600\n",
      "Epoch 41, CIFAR-10 Batch 5:  Loss:     0.0895 Validation Accuracy: 0.708400\n",
      "Epoch 42, CIFAR-10 Batch 1:  Loss:     0.0890 Validation Accuracy: 0.715000\n",
      "Epoch 42, CIFAR-10 Batch 2:  Loss:     0.1043 Validation Accuracy: 0.707200\n",
      "Epoch 42, CIFAR-10 Batch 3:  Loss:     0.0879 Validation Accuracy: 0.709200\n",
      "Epoch 42, CIFAR-10 Batch 4:  Loss:     0.0784 Validation Accuracy: 0.709600\n",
      "Epoch 42, CIFAR-10 Batch 5:  Loss:     0.0848 Validation Accuracy: 0.707400\n",
      "Epoch 43, CIFAR-10 Batch 1:  Loss:     0.0822 Validation Accuracy: 0.711800\n",
      "Epoch 43, CIFAR-10 Batch 2:  Loss:     0.0931 Validation Accuracy: 0.704600\n",
      "Epoch 43, CIFAR-10 Batch 3:  Loss:     0.0823 Validation Accuracy: 0.700000\n",
      "Epoch 43, CIFAR-10 Batch 4:  Loss:     0.0787 Validation Accuracy: 0.701400\n",
      "Epoch 43, CIFAR-10 Batch 5:  Loss:     0.0959 Validation Accuracy: 0.698400\n",
      "Epoch 44, CIFAR-10 Batch 1:  Loss:     0.0907 Validation Accuracy: 0.704800\n"
     ]
    },
    {
     "name": "stdout",
     "output_type": "stream",
     "text": [
      "Epoch 44, CIFAR-10 Batch 2:  Loss:     0.0971 Validation Accuracy: 0.703800\n",
      "Epoch 44, CIFAR-10 Batch 3:  Loss:     0.0850 Validation Accuracy: 0.697200\n",
      "Epoch 44, CIFAR-10 Batch 4:  Loss:     0.0908 Validation Accuracy: 0.702200\n",
      "Epoch 44, CIFAR-10 Batch 5:  Loss:     0.0778 Validation Accuracy: 0.694600\n",
      "Epoch 45, CIFAR-10 Batch 1:  Loss:     0.0837 Validation Accuracy: 0.713800\n",
      "Epoch 45, CIFAR-10 Batch 2:  Loss:     0.0909 Validation Accuracy: 0.710400\n",
      "Epoch 45, CIFAR-10 Batch 3:  Loss:     0.0881 Validation Accuracy: 0.708600\n",
      "Epoch 45, CIFAR-10 Batch 4:  Loss:     0.0806 Validation Accuracy: 0.704000\n",
      "Epoch 45, CIFAR-10 Batch 5:  Loss:     0.0642 Validation Accuracy: 0.706400\n",
      "Epoch 46, CIFAR-10 Batch 1:  Loss:     0.0750 Validation Accuracy: 0.717200\n",
      "Epoch 46, CIFAR-10 Batch 2:  Loss:     0.0637 Validation Accuracy: 0.719000\n",
      "Epoch 46, CIFAR-10 Batch 3:  Loss:     0.0650 Validation Accuracy: 0.722000\n",
      "Epoch 46, CIFAR-10 Batch 4:  Loss:     0.0793 Validation Accuracy: 0.705600\n",
      "Epoch 46, CIFAR-10 Batch 5:  Loss:     0.0596 Validation Accuracy: 0.697600\n",
      "Epoch 47, CIFAR-10 Batch 1:  Loss:     0.0645 Validation Accuracy: 0.709600\n",
      "Epoch 47, CIFAR-10 Batch 2:  Loss:     0.0601 Validation Accuracy: 0.709600\n",
      "Epoch 47, CIFAR-10 Batch 3:  Loss:     0.0823 Validation Accuracy: 0.701000\n",
      "Epoch 47, CIFAR-10 Batch 4:  Loss:     0.0625 Validation Accuracy: 0.701200\n",
      "Epoch 47, CIFAR-10 Batch 5:  Loss:     0.0728 Validation Accuracy: 0.694800\n",
      "Epoch 48, CIFAR-10 Batch 1:  Loss:     0.0713 Validation Accuracy: 0.711400\n",
      "Epoch 48, CIFAR-10 Batch 2:  Loss:     0.0495 Validation Accuracy: 0.722200\n",
      "Epoch 48, CIFAR-10 Batch 3:  Loss:     0.0743 Validation Accuracy: 0.711400\n",
      "Epoch 48, CIFAR-10 Batch 4:  Loss:     0.0610 Validation Accuracy: 0.710800\n",
      "Epoch 48, CIFAR-10 Batch 5:  Loss:     0.0543 Validation Accuracy: 0.714000\n",
      "Epoch 49, CIFAR-10 Batch 1:  Loss:     0.0646 Validation Accuracy: 0.706400\n",
      "Epoch 49, CIFAR-10 Batch 2:  Loss:     0.0739 Validation Accuracy: 0.711400\n",
      "Epoch 49, CIFAR-10 Batch 3:  Loss:     0.0688 Validation Accuracy: 0.709200\n",
      "Epoch 49, CIFAR-10 Batch 4:  Loss:     0.0656 Validation Accuracy: 0.706800\n",
      "Epoch 49, CIFAR-10 Batch 5:  Loss:     0.0490 Validation Accuracy: 0.706800\n",
      "Epoch 50, CIFAR-10 Batch 1:  Loss:     0.0594 Validation Accuracy: 0.712000\n",
      "Epoch 50, CIFAR-10 Batch 2:  Loss:     0.0627 Validation Accuracy: 0.713400\n",
      "Epoch 50, CIFAR-10 Batch 3:  Loss:     0.0702 Validation Accuracy: 0.711200\n",
      "Epoch 50, CIFAR-10 Batch 4:  Loss:     0.0627 Validation Accuracy: 0.706400\n",
      "Epoch 50, CIFAR-10 Batch 5:  Loss:     0.0468 Validation Accuracy: 0.715200\n",
      "Epoch 51, CIFAR-10 Batch 1:  Loss:     0.0469 Validation Accuracy: 0.716400\n",
      "Epoch 51, CIFAR-10 Batch 2:  Loss:     0.0461 Validation Accuracy: 0.721600\n",
      "Epoch 51, CIFAR-10 Batch 3:  Loss:     0.0413 Validation Accuracy: 0.713600\n",
      "Epoch 51, CIFAR-10 Batch 4:  Loss:     0.0394 Validation Accuracy: 0.713800\n",
      "Epoch 51, CIFAR-10 Batch 5:  Loss:     0.0449 Validation Accuracy: 0.705600\n",
      "Epoch 52, CIFAR-10 Batch 1:  Loss:     0.0448 Validation Accuracy: 0.716800\n",
      "Epoch 52, CIFAR-10 Batch 2:  Loss:     0.0533 Validation Accuracy: 0.711000\n",
      "Epoch 52, CIFAR-10 Batch 3:  Loss:     0.0462 Validation Accuracy: 0.709600\n",
      "Epoch 52, CIFAR-10 Batch 4:  Loss:     0.0343 Validation Accuracy: 0.716000\n",
      "Epoch 52, CIFAR-10 Batch 5:  Loss:     0.0464 Validation Accuracy: 0.702800\n",
      "Epoch 53, CIFAR-10 Batch 1:  Loss:     0.0808 Validation Accuracy: 0.697600\n",
      "Epoch 53, CIFAR-10 Batch 2:  Loss:     0.0747 Validation Accuracy: 0.706000\n",
      "Epoch 53, CIFAR-10 Batch 3:  Loss:     0.0551 Validation Accuracy: 0.705000\n",
      "Epoch 53, CIFAR-10 Batch 4:  Loss:     0.0342 Validation Accuracy: 0.707200\n",
      "Epoch 53, CIFAR-10 Batch 5:  Loss:     0.0308 Validation Accuracy: 0.715000\n",
      "Epoch 54, CIFAR-10 Batch 1:  Loss:     0.0396 Validation Accuracy: 0.717200\n",
      "Epoch 54, CIFAR-10 Batch 2:  Loss:     0.0440 Validation Accuracy: 0.713000\n",
      "Epoch 54, CIFAR-10 Batch 3:  Loss:     0.0354 Validation Accuracy: 0.714400\n",
      "Epoch 54, CIFAR-10 Batch 4:  Loss:     0.0386 Validation Accuracy: 0.706200\n",
      "Epoch 54, CIFAR-10 Batch 5:  Loss:     0.0339 Validation Accuracy: 0.708000\n",
      "Epoch 55, CIFAR-10 Batch 1:  Loss:     0.0442 Validation Accuracy: 0.709600\n",
      "Epoch 55, CIFAR-10 Batch 2:  Loss:     0.0437 Validation Accuracy: 0.715000\n",
      "Epoch 55, CIFAR-10 Batch 3:  Loss:     0.0335 Validation Accuracy: 0.716200\n",
      "Epoch 55, CIFAR-10 Batch 4:  Loss:     0.0310 Validation Accuracy: 0.702800\n",
      "Epoch 55, CIFAR-10 Batch 5:  Loss:     0.0330 Validation Accuracy: 0.704000\n",
      "Epoch 56, CIFAR-10 Batch 1:  Loss:     0.0370 Validation Accuracy: 0.708400\n",
      "Epoch 56, CIFAR-10 Batch 2:  Loss:     0.0295 Validation Accuracy: 0.714400\n",
      "Epoch 56, CIFAR-10 Batch 3:  Loss:     0.0280 Validation Accuracy: 0.711200\n",
      "Epoch 56, CIFAR-10 Batch 4:  Loss:     0.0326 Validation Accuracy: 0.697800\n",
      "Epoch 56, CIFAR-10 Batch 5:  Loss:     0.0369 Validation Accuracy: 0.698800\n",
      "Epoch 57, CIFAR-10 Batch 1:  Loss:     0.0377 Validation Accuracy: 0.708600\n",
      "Epoch 57, CIFAR-10 Batch 2:  Loss:     0.0273 Validation Accuracy: 0.715800\n",
      "Epoch 57, CIFAR-10 Batch 3:  Loss:     0.0224 Validation Accuracy: 0.712200\n",
      "Epoch 57, CIFAR-10 Batch 4:  Loss:     0.0194 Validation Accuracy: 0.709400\n",
      "Epoch 57, CIFAR-10 Batch 5:  Loss:     0.0220 Validation Accuracy: 0.706600\n",
      "Epoch 58, CIFAR-10 Batch 1:  Loss:     0.0340 Validation Accuracy: 0.707600\n",
      "Epoch 58, CIFAR-10 Batch 2:  Loss:     0.0218 Validation Accuracy: 0.712400\n",
      "Epoch 58, CIFAR-10 Batch 3:  Loss:     0.0289 Validation Accuracy: 0.714600\n",
      "Epoch 58, CIFAR-10 Batch 4:  Loss:     0.0246 Validation Accuracy: 0.708200\n",
      "Epoch 58, CIFAR-10 Batch 5:  Loss:     0.0218 Validation Accuracy: 0.706200\n",
      "Epoch 59, CIFAR-10 Batch 1:  Loss:     0.0236 Validation Accuracy: 0.716000\n",
      "Epoch 59, CIFAR-10 Batch 2:  Loss:     0.0186 Validation Accuracy: 0.712400\n",
      "Epoch 59, CIFAR-10 Batch 3:  Loss:     0.0179 Validation Accuracy: 0.714600\n",
      "Epoch 59, CIFAR-10 Batch 4:  Loss:     0.0122 Validation Accuracy: 0.716400\n",
      "Epoch 59, CIFAR-10 Batch 5:  Loss:     0.0162 Validation Accuracy: 0.704400\n",
      "Epoch 60, CIFAR-10 Batch 1:  Loss:     0.0201 Validation Accuracy: 0.712000\n",
      "Epoch 60, CIFAR-10 Batch 2:  Loss:     0.0186 Validation Accuracy: 0.714400\n",
      "Epoch 60, CIFAR-10 Batch 3:  Loss:     0.0156 Validation Accuracy: 0.715800\n",
      "Epoch 60, CIFAR-10 Batch 4:  Loss:     0.0261 Validation Accuracy: 0.715400\n",
      "Epoch 60, CIFAR-10 Batch 5:  Loss:     0.0155 Validation Accuracy: 0.716400\n",
      "Epoch 61, CIFAR-10 Batch 1:  Loss:     0.0236 Validation Accuracy: 0.707800\n",
      "Epoch 61, CIFAR-10 Batch 2:  Loss:     0.0183 Validation Accuracy: 0.707800\n",
      "Epoch 61, CIFAR-10 Batch 3:  Loss:     0.0193 Validation Accuracy: 0.721200\n",
      "Epoch 61, CIFAR-10 Batch 4:  Loss:     0.0192 Validation Accuracy: 0.713000\n",
      "Epoch 61, CIFAR-10 Batch 5:  Loss:     0.0184 Validation Accuracy: 0.708600\n",
      "Epoch 62, CIFAR-10 Batch 1:  Loss:     0.0302 Validation Accuracy: 0.706000\n",
      "Epoch 62, CIFAR-10 Batch 2:  Loss:     0.0238 Validation Accuracy: 0.715600\n",
      "Epoch 62, CIFAR-10 Batch 3:  Loss:     0.0158 Validation Accuracy: 0.714600\n",
      "Epoch 62, CIFAR-10 Batch 4:  Loss:     0.0148 Validation Accuracy: 0.712400\n",
      "Epoch 62, CIFAR-10 Batch 5:  Loss:     0.0162 Validation Accuracy: 0.711600\n",
      "Epoch 63, CIFAR-10 Batch 1:  Loss:     0.0198 Validation Accuracy: 0.704800\n",
      "Epoch 63, CIFAR-10 Batch 2:  Loss:     0.0176 Validation Accuracy: 0.711200\n",
      "Epoch 63, CIFAR-10 Batch 3:  Loss:     0.0182 Validation Accuracy: 0.709600\n",
      "Epoch 63, CIFAR-10 Batch 4:  Loss:     0.0122 Validation Accuracy: 0.715200\n",
      "Epoch 63, CIFAR-10 Batch 5:  Loss:     0.0137 Validation Accuracy: 0.719200\n",
      "Epoch 64, CIFAR-10 Batch 1:  Loss:     0.0193 Validation Accuracy: 0.705200\n",
      "Epoch 64, CIFAR-10 Batch 2:  Loss:     0.0173 Validation Accuracy: 0.718200\n",
      "Epoch 64, CIFAR-10 Batch 3:  Loss:     0.0160 Validation Accuracy: 0.716200\n",
      "Epoch 64, CIFAR-10 Batch 4:  Loss:     0.0121 Validation Accuracy: 0.713400\n",
      "Epoch 64, CIFAR-10 Batch 5:  Loss:     0.0100 Validation Accuracy: 0.720200\n"
     ]
    }
   ],
   "source": [
    "\"\"\"\n",
    "DON'T MODIFY ANYTHING IN THIS CELL\n",
    "\"\"\"\n",
    "save_model_path = './image_classification'\n",
    "\n",
    "print('Training...')\n",
    "with tf.Session() as sess:\n",
    "    # Initializing the variables\n",
    "    sess.run(tf.global_variables_initializer())\n",
    "    \n",
    "    # Training cycle\n",
    "    for epoch in range(epochs):\n",
    "        # Loop over all batches\n",
    "        n_batches = 5\n",
    "        for batch_i in range(1, n_batches + 1):\n",
    "            for batch_features, batch_labels in helper.load_preprocess_training_batch(batch_i, batch_size):\n",
    "                train_neural_network(sess, optimizer, keep_probability, batch_features, batch_labels)\n",
    "            print('Epoch {:>2}, CIFAR-10 Batch {}:  '.format(epoch + 1, batch_i), end='')\n",
    "            print_stats(sess, batch_features, batch_labels, cost, accuracy)\n",
    "            \n",
    "    # Save Model\n",
    "    saver = tf.train.Saver()\n",
    "    save_path = saver.save(sess, save_model_path)"
   ]
  },
  {
   "cell_type": "markdown",
   "metadata": {},
   "source": [
    "# Checkpoint\n",
    "The model has been saved to disk.\n",
    "## Test Model\n",
    "Test your model against the test dataset.  This will be your final accuracy. You should have an accuracy greater than 50%. If you don't, keep tweaking the model architecture and parameters."
   ]
  },
  {
   "cell_type": "code",
   "execution_count": 14,
   "metadata": {},
   "outputs": [
    {
     "name": "stdout",
     "output_type": "stream",
     "text": [
      "Testing Accuracy: 0.7171097755432129\n",
      "\n"
     ]
    },
    {
     "data": {
      "image/png": "[encoded data removed]",
      "text/plain": [
       "<matplotlib.figure.Figure at 0xc9887f0>"
      ]
     },
     "metadata": {
      "image/png": {
       "height": 319,
       "width": 355
      }
     },
     "output_type": "display_data"
    }
   ],
   "source": [
    "\"\"\"\n",
    "DON'T MODIFY ANYTHING IN THIS CELL\n",
    "\"\"\"\n",
    "%matplotlib inline\n",
    "%config InlineBackend.figure_format = 'retina'\n",
    "\n",
    "import tensorflow as tf\n",
    "import pickle\n",
    "import helper\n",
    "import random\n",
    "\n",
    "# Set batch size if not already set\n",
    "try:\n",
    "    if batch_size:\n",
    "        pass\n",
    "except NameError:\n",
    "    batch_size = 64\n",
    "\n",
    "save_model_path = './image_classification'\n",
    "n_samples = 4\n",
    "top_n_predictions = 3\n",
    "\n",
    "def test_model():\n",
    "    \"\"\"\n",
    "    Test the saved model against the test dataset\n",
    "    \"\"\"\n",
    "\n",
    "    test_features, test_labels = pickle.load(open('preprocess_test.p', mode='rb'))\n",
    "    loaded_graph = tf.Graph()\n",
    "\n",
    "    with tf.Session(graph=loaded_graph) as sess:\n",
    "        # Load model\n",
    "        loader = tf.train.import_meta_graph(save_model_path + '.meta')\n",
    "        loader.restore(sess, save_model_path)\n",
    "\n",
    "        # Get Tensors from loaded model\n",
    "        loaded_x = loaded_graph.get_tensor_by_name('x:0')\n",
    "        loaded_y = loaded_graph.get_tensor_by_name('y:0')\n",
    "        loaded_keep_prob = loaded_graph.get_tensor_by_name('keep_prob:0')\n",
    "        loaded_logits = loaded_graph.get_tensor_by_name('logits:0')\n",
    "        loaded_acc = loaded_graph.get_tensor_by_name('accuracy:0')\n",
    "        \n",
    "        # Get accuracy in batches for memory limitations\n",
    "        test_batch_acc_total = 0\n",
    "        test_batch_count = 0\n",
    "        \n",
    "        for test_feature_batch, test_label_batch in helper.batch_features_labels(test_features, test_labels, batch_size):\n",
    "            test_batch_acc_total += sess.run(\n",
    "                loaded_acc,\n",
    "                feed_dict={loaded_x: test_feature_batch, loaded_y: test_label_batch, loaded_keep_prob: 1.0})\n",
    "            test_batch_count += 1\n",
    "\n",
    "        print('Testing Accuracy: {}\\n'.format(test_batch_acc_total/test_batch_count))\n",
    "\n",
    "        # Print Random Samples\n",
    "        random_test_features, random_test_labels = tuple(zip(*random.sample(list(zip(test_features, test_labels)), n_samples)))\n",
    "        random_test_predictions = sess.run(\n",
    "            tf.nn.top_k(tf.nn.softmax(loaded_logits), top_n_predictions),\n",
    "            feed_dict={loaded_x: random_test_features, loaded_y: random_test_labels, loaded_keep_prob: 1.0})\n",
    "        helper.display_image_predictions(random_test_features, random_test_labels, random_test_predictions)\n",
    "\n",
    "\n",
    "test_model()"
   ]
  },
  {
   "cell_type": "markdown",
   "metadata": {},
   "source": [
    "## Why 50-80% Accuracy?\n",
    "You might be wondering why you can't get an accuracy any higher. First things first, 50% isn't bad for a simple CNN.  Pure guessing would get you 10% accuracy. However, you might notice people are getting scores [well above 80%](http://rodrigob.github.io/are_we_there_yet/build/classification_datasets_results.html#43494641522d3130).  That's because we haven't taught you all there is to know about neural networks. We still need to cover a few more techniques.\n",
    "## Submitting This Project\n",
    "When submitting this project, make sure to run all the cells before saving the notebook.  Save the notebook file as \"dlnd_image_classification.ipynb\" and save it as a HTML file under \"File\" -> \"Download as\".  Include the \"helper.py\" and \"problem_unittests.py\" files in your submission."
   ]
  },
  {
   "cell_type": "code",
   "execution_count": null,
   "metadata": {
    "collapsed": true
   },
   "outputs": [],
   "source": []
  }
 ],
 "metadata": {
  "kernelspec": {
   "display_name": "Python 3",
   "language": "python",
   "name": "python3"
  },
  "language_info": {
   "codemirror_mode": {
    "name": "ipython",
    "version": 3
   },
   "file_extension": ".py",
   "mimetype": "text/x-python",
   "name": "python",
   "nbconvert_exporter": "python",
   "pygments_lexer": "ipython3",
   "version": "3.5.3"
  }
 },
 "nbformat": 4,
 "nbformat_minor": 1
}
