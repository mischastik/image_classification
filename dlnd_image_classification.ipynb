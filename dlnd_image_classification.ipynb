{
 "cells": [
  {
   "cell_type": "markdown",
   "metadata": {
    "collapsed": true
   },
   "source": [
    "# Image Classification\n",
    "In this project, you'll classify images from the [CIFAR-10 dataset](https://www.cs.toronto.edu/~kriz/cifar.html).  The dataset consists of airplanes, dogs, cats, and other objects. You'll preprocess the images, then train a convolutional neural network on all the samples. The images need to be normalized and the labels need to be one-hot encoded.  You'll get to apply what you learned and build a convolutional, max pooling, dropout, and fully connected layers.  At the end, you'll get to see your neural network's predictions on the sample images.\n",
    "## Get the Data\n",
    "Run the following cell to download the [CIFAR-10 dataset for python](https://www.cs.toronto.edu/~kriz/cifar-10-python.tar.gz)."
   ]
  },
  {
   "cell_type": "code",
   "execution_count": 6,
   "metadata": {},
   "outputs": [
    {
     "name": "stdout",
     "output_type": "stream",
     "text": [
      "All files found!\n"
     ]
    }
   ],
   "source": [
    "\"\"\"\n",
    "DON'T MODIFY ANYTHING IN THIS CELL THAT IS BELOW THIS LINE\n",
    "\"\"\"\n",
    "from urllib.request import urlretrieve\n",
    "from os.path import isfile, isdir\n",
    "from tqdm import tqdm\n",
    "import problem_unittests as tests\n",
    "import tarfile\n",
    "\n",
    "cifar10_dataset_folder_path = 'cifar-10-batches-py'\n",
    "\n",
    "# Use Floyd's cifar-10 dataset if present\n",
    "floyd_cifar10_location = '/input/cifar-10/python.tar.gz'\n",
    "if isfile(floyd_cifar10_location):\n",
    "    tar_gz_path = floyd_cifar10_location\n",
    "else:\n",
    "    tar_gz_path = 'cifar-10-python.tar.gz'\n",
    "\n",
    "class DLProgress(tqdm):\n",
    "    last_block = 0\n",
    "\n",
    "    def hook(self, block_num=1, block_size=1, total_size=None):\n",
    "        self.total = total_size\n",
    "        self.update((block_num - self.last_block) * block_size)\n",
    "        self.last_block = block_num\n",
    "\n",
    "if not isfile(tar_gz_path):\n",
    "    with DLProgress(unit='B', unit_scale=True, miniters=1, desc='CIFAR-10 Dataset') as pbar:\n",
    "        urlretrieve(\n",
    "            'https://www.cs.toronto.edu/~kriz/cifar-10-python.tar.gz',\n",
    "            tar_gz_path,\n",
    "            pbar.hook)\n",
    "\n",
    "if not isdir(cifar10_dataset_folder_path):\n",
    "    with tarfile.open(tar_gz_path) as tar:\n",
    "        tar.extractall()\n",
    "        tar.close()\n",
    "\n",
    "\n",
    "tests.test_folder_path(cifar10_dataset_folder_path)"
   ]
  },
  {
   "cell_type": "markdown",
   "metadata": {},
   "source": [
    "## Explore the Data\n",
    "The dataset is broken into batches to prevent your machine from running out of memory.  The CIFAR-10 dataset consists of 5 batches, named `data_batch_1`, `data_batch_2`, etc.. Each batch contains the labels and images that are one of the following:\n",
    "* airplane\n",
    "* automobile\n",
    "* bird\n",
    "* cat\n",
    "* deer\n",
    "* dog\n",
    "* frog\n",
    "* horse\n",
    "* ship\n",
    "* truck\n",
    "\n",
    "Understanding a dataset is part of making predictions on the data.  Play around with the code cell below by changing the `batch_id` and `sample_id`. The `batch_id` is the id for a batch (1-5). The `sample_id` is the id for a image and label pair in the batch.\n",
    "\n",
    "Ask yourself \"What are all possible labels?\", \"What is the range of values for the image data?\", \"Are the labels in order or random?\".  Answers to questions like these will help you preprocess the data and end up with better predictions."
   ]
  },
  {
   "cell_type": "code",
   "execution_count": 7,
   "metadata": {},
   "outputs": [
    {
     "name": "stdout",
     "output_type": "stream",
     "text": [
      "\n",
      "Stats of batch 1:\n",
      "Samples: 10000\n",
      "Label Counts: {0: 1005, 1: 974, 2: 1032, 3: 1016, 4: 999, 5: 937, 6: 1030, 7: 1001, 8: 1025, 9: 981}\n",
      "First 20 Labels: [6, 9, 9, 4, 1, 1, 2, 7, 8, 3, 4, 7, 7, 2, 9, 9, 9, 3, 2, 6]\n",
      "\n",
      "Example of Image 8:\n",
      "Image - Min Value: 8 Max Value: 252\n",
      "Image - Shape: (32, 32, 3)\n",
      "Label - Label Id: 8 Name: ship\n"
     ]
    },
    {
     "data": {
      "image/png": "[encoded data removed]",
      "text/plain": [
       "<matplotlib.figure.Figure at 0xce25240>"
      ]
     },
     "metadata": {
      "image/png": {
       "height": 250,
       "width": 253
      }
     },
     "output_type": "display_data"
    }
   ],
   "source": [
    "%matplotlib inline\n",
    "%config InlineBackend.figure_format = 'retina'\n",
    "\n",
    "import helper\n",
    "import numpy as np\n",
    "\n",
    "# Explore the dataset\n",
    "batch_id = 1\n",
    "sample_id = 8\n",
    "helper.display_stats(cifar10_dataset_folder_path, batch_id, sample_id)"
   ]
  },
  {
   "cell_type": "markdown",
   "metadata": {},
   "source": [
    "## Implement Preprocess Functions\n",
    "### Normalize\n",
    "In the cell below, implement the `normalize` function to take in image data, `x`, and return it as a normalized Numpy array. The values should be in the range of 0 to 1, inclusive.  The return object should be the same shape as `x`."
   ]
  },
  {
   "cell_type": "code",
   "execution_count": 8,
   "metadata": {},
   "outputs": [
    {
     "name": "stdout",
     "output_type": "stream",
     "text": [
      "Tests Passed\n"
     ]
    }
   ],
   "source": [
    "def normalize(x):\n",
    "    \"\"\"\n",
    "    Normalize a list of sample image data in the range of 0 to 1\n",
    "    : x: List of image data.  The image shape is (32, 32, 3)\n",
    "    : return: Numpy array of normalize data\n",
    "    \"\"\"\n",
    "    # TODO: Implement Function\n",
    "    return x/np.max(x, axis = 0)\n",
    "#    for i in range(0, len(x)):\n",
    "#        size = x[i].shape;\n",
    "#        for xc in range(0, size[0]):\n",
    "#            for yc in range(0, size[1]):\n",
    "#                for cc in range(0, size[2]):\n",
    "#                    x[i][xc, yc, cc] = x[i][xc, yc, cc] / 256\n",
    "#    return x\n",
    "\n",
    "\n",
    "\"\"\"\n",
    "DON'T MODIFY ANYTHING IN THIS CELL THAT IS BELOW THIS LINE\n",
    "\"\"\"\n",
    "tests.test_normalize(normalize)"
   ]
  },
  {
   "cell_type": "markdown",
   "metadata": {},
   "source": [
    "### One-hot encode\n",
    "Just like the previous code cell, you'll be implementing a function for preprocessing.  This time, you'll implement the `one_hot_encode` function. The input, `x`, are a list of labels.  Implement the function to return the list of labels as One-Hot encoded Numpy array.  The possible values for labels are 0 to 9. The one-hot encoding function should return the same encoding for each value between each call to `one_hot_encode`.  Make sure to save the map of encodings outside the function.\n",
    "\n",
    "Hint: Don't reinvent the wheel."
   ]
  },
  {
   "cell_type": "code",
   "execution_count": 9,
   "metadata": {},
   "outputs": [
    {
     "name": "stdout",
     "output_type": "stream",
     "text": [
      "Tests Passed\n"
     ]
    }
   ],
   "source": [
    "import tensorflow as tf\n",
    "\n",
    "def one_hot_encode(x):\n",
    "    \"\"\"\n",
    "    One hot encode a list of sample labels. Return a one-hot encoded vector for each label.\n",
    "    : x: List of sample Labels\n",
    "    : return: Numpy array of one-hot encoded labels\n",
    "    \"\"\"\n",
    "    # TODO: Implement Function\n",
    "    init = tf.global_variables_initializer()\n",
    "    xvar = tf.placeholder(tf.int32)\n",
    "    enc = tf.one_hot(xvar, 10)\n",
    "    with tf.Session() as sess:\n",
    "        sess.run(init)\n",
    "        res = sess.run(enc, feed_dict = {xvar : x})\n",
    "    return res\n",
    "\n",
    "\n",
    "\"\"\"\n",
    "DON'T MODIFY ANYTHING IN THIS CELL THAT IS BELOW THIS LINE\n",
    "\"\"\"\n",
    "tests.test_one_hot_encode(one_hot_encode)"
   ]
  },
  {
   "cell_type": "markdown",
   "metadata": {},
   "source": [
    "### Randomize Data\n",
    "As you saw from exploring the data above, the order of the samples are randomized.  It doesn't hurt to randomize it again, but you don't need to for this dataset."
   ]
  },
  {
   "cell_type": "markdown",
   "metadata": {},
   "source": [
    "## Preprocess all the data and save it\n",
    "Running the code cell below will preprocess all the CIFAR-10 data and save it to file. The code below also uses 10% of the training data for validation."
   ]
  },
  {
   "cell_type": "code",
   "execution_count": 10,
   "metadata": {
    "collapsed": true
   },
   "outputs": [],
   "source": [
    "\"\"\"\n",
    "DON'T MODIFY ANYTHING IN THIS CELL\n",
    "\"\"\"\n",
    "# Preprocess Training, Validation, and Testing Data\n",
    "helper.preprocess_and_save_data(cifar10_dataset_folder_path, normalize, one_hot_encode)"
   ]
  },
  {
   "cell_type": "markdown",
   "metadata": {},
   "source": [
    "# Check Point\n",
    "This is your first checkpoint.  If you ever decide to come back to this notebook or have to restart the notebook, you can start from here.  The preprocessed data has been saved to disk."
   ]
  },
  {
   "cell_type": "code",
   "execution_count": 2,
   "metadata": {
    "collapsed": true
   },
   "outputs": [],
   "source": [
    "\"\"\"\n",
    "DON'T MODIFY ANYTHING IN THIS CELL\n",
    "\"\"\"\n",
    "import pickle\n",
    "import problem_unittests as tests\n",
    "import helper\n",
    "\n",
    "# Load the Preprocessed Validation data\n",
    "valid_features, valid_labels = pickle.load(open('preprocess_validation.p', mode='rb'))"
   ]
  },
  {
   "cell_type": "markdown",
   "metadata": {},
   "source": [
    "## Build the network\n",
    "For the neural network, you'll build each layer into a function.  Most of the code you've seen has been outside of functions. To test your code more thoroughly, we require that you put each layer in a function.  This allows us to give you better feedback and test for simple mistakes using our unittests before you submit your project.\n",
    "\n",
    ">**Note:** If you're finding it hard to dedicate enough time for this course each week, we've provided a small shortcut to this part of the project. In the next couple of problems, you'll have the option to use classes from the [TensorFlow Layers](https://www.tensorflow.org/api_docs/python/tf/layers) or [TensorFlow Layers (contrib)](https://www.tensorflow.org/api_guides/python/contrib.layers) packages to build each layer, except the layers you build in the \"Convolutional and Max Pooling Layer\" section.  TF Layers is similar to Keras's and TFLearn's abstraction to layers, so it's easy to pickup.\n",
    "\n",
    ">However, if you would like to get the most out of this course, try to solve all the problems _without_ using anything from the TF Layers packages. You **can** still use classes from other packages that happen to have the same name as ones you find in TF Layers! For example, instead of using the TF Layers version of the `conv2d` class, [tf.layers.conv2d](https://www.tensorflow.org/api_docs/python/tf/layers/conv2d), you would want to use the TF Neural Network version of `conv2d`, [tf.nn.conv2d](https://www.tensorflow.org/api_docs/python/tf/nn/conv2d). \n",
    "\n",
    "Let's begin!\n",
    "\n",
    "### Input\n",
    "The neural network needs to read the image data, one-hot encoded labels, and dropout keep probability. Implement the following functions\n",
    "* Implement `neural_net_image_input`\n",
    " * Return a [TF Placeholder](https://www.tensorflow.org/api_docs/python/tf/placeholder)\n",
    " * Set the shape using `image_shape` with batch size set to `None`.\n",
    " * Name the TensorFlow placeholder \"x\" using the TensorFlow `name` parameter in the [TF Placeholder](https://www.tensorflow.org/api_docs/python/tf/placeholder).\n",
    "* Implement `neural_net_label_input`\n",
    " * Return a [TF Placeholder](https://www.tensorflow.org/api_docs/python/tf/placeholder)\n",
    " * Set the shape using `n_classes` with batch size set to `None`.\n",
    " * Name the TensorFlow placeholder \"y\" using the TensorFlow `name` parameter in the [TF Placeholder](https://www.tensorflow.org/api_docs/python/tf/placeholder).\n",
    "* Implement `neural_net_keep_prob_input`\n",
    " * Return a [TF Placeholder](https://www.tensorflow.org/api_docs/python/tf/placeholder) for dropout keep probability.\n",
    " * Name the TensorFlow placeholder \"keep_prob\" using the TensorFlow `name` parameter in the [TF Placeholder](https://www.tensorflow.org/api_docs/python/tf/placeholder).\n",
    "\n",
    "These names will be used at the end of the project to load your saved model.\n",
    "\n",
    "Note: `None` for shapes in TensorFlow allow for a dynamic size."
   ]
  },
  {
   "cell_type": "code",
   "execution_count": 3,
   "metadata": {},
   "outputs": [
    {
     "name": "stdout",
     "output_type": "stream",
     "text": [
      "Image Input Tests Passed.\n",
      "Label Input Tests Passed.\n",
      "Keep Prob Tests Passed.\n"
     ]
    }
   ],
   "source": [
    "import tensorflow as tf\n",
    "\n",
    "def neural_net_image_input(image_shape):\n",
    "    \"\"\"\n",
    "    Return a Tensor for a batch of image input\n",
    "    : image_shape: Shape of the images\n",
    "    : return: Tensor for image input.\n",
    "    \"\"\"\n",
    "    x = tf.placeholder(tf.float32, [None, image_shape[0], image_shape[1], image_shape[2]], 'x')\n",
    "    return x\n",
    "\n",
    "\n",
    "def neural_net_label_input(n_classes):\n",
    "    \"\"\"\n",
    "    Return a Tensor for a batch of label input\n",
    "    : n_classes: Number of classes\n",
    "    : return: Tensor for label input.\n",
    "    \"\"\"\n",
    "    y = tf.placeholder(tf.float32, [None, n_classes], 'y')\n",
    "    return y\n",
    "\n",
    "\n",
    "def neural_net_keep_prob_input():\n",
    "    \"\"\"\n",
    "    Return a Tensor for keep probability\n",
    "    : return: Tensor for keep probability.\n",
    "    \"\"\"\n",
    "    return tf.placeholder(tf.float32, None, 'keep_prob')\n",
    "\n",
    "\n",
    "\"\"\"\n",
    "DON'T MODIFY ANYTHING IN THIS CELL THAT IS BELOW THIS LINE\n",
    "\"\"\"\n",
    "tf.reset_default_graph()\n",
    "tests.test_nn_image_inputs(neural_net_image_input)\n",
    "tests.test_nn_label_inputs(neural_net_label_input)\n",
    "tests.test_nn_keep_prob_inputs(neural_net_keep_prob_input)"
   ]
  },
  {
   "cell_type": "markdown",
   "metadata": {},
   "source": [
    "### Convolution and Max Pooling Layer\n",
    "Convolution layers have a lot of success with images. For this code cell, you should implement the function `conv2d_maxpool` to apply convolution then max pooling:\n",
    "* Create the weight and bias using `conv_ksize`, `conv_num_outputs` and the shape of `x_tensor`.\n",
    "* Apply a convolution to `x_tensor` using weight and `conv_strides`.\n",
    " * We recommend you use same padding, but you're welcome to use any padding.\n",
    "* Add bias\n",
    "* Add a nonlinear activation to the convolution.\n",
    "* Apply Max Pooling using `pool_ksize` and `pool_strides`.\n",
    " * We recommend you use same padding, but you're welcome to use any padding.\n",
    "\n",
    "**Note:** You **can't** use [TensorFlow Layers](https://www.tensorflow.org/api_docs/python/tf/layers) or [TensorFlow Layers (contrib)](https://www.tensorflow.org/api_guides/python/contrib.layers) for **this** layer, but you can still use TensorFlow's [Neural Network](https://www.tensorflow.org/api_docs/python/tf/nn) package. You may still use the shortcut option for all the **other** layers."
   ]
  },
  {
   "cell_type": "code",
   "execution_count": 4,
   "metadata": {},
   "outputs": [
    {
     "name": "stdout",
     "output_type": "stream",
     "text": [
      "Tests Passed\n"
     ]
    }
   ],
   "source": [
    "def conv2d_maxpool(x_tensor, conv_num_outputs, conv_ksize, conv_strides, pool_ksize, pool_strides):\n",
    "    \"\"\"\n",
    "    Apply convolution then max pooling to x_tensor\n",
    "    :param x_tensor: TensorFlow Tensor\n",
    "    :param conv_num_outputs: Number of outputs for the convolutional layer\n",
    "    :param conv_ksize: kernal size 2-D Tuple for the convolutional layer\n",
    "    :param conv_strides: Stride 2-D Tuple for convolution\n",
    "    :param pool_ksize: kernal size 2-D Tuple for pool\n",
    "    :param pool_strides: Stride 2-D Tuple for pool\n",
    "    : return: A tensor that represents convolution and max pooling of x_tensor\n",
    "    \"\"\"\n",
    "    W = tf.Variable(tf.truncated_normal([conv_ksize[0], conv_ksize[1], int(x_tensor.shape[3]), conv_num_outputs], stddev=0.1))\n",
    "    b = tf.Variable(tf.zeros([conv_num_outputs]))\n",
    "    x_tensor = tf.nn.conv2d(x_tensor, W, [1, conv_strides[0], conv_strides[1], 1], padding='SAME')\n",
    "    x_tensor = tf.nn.bias_add(x_tensor, b)\n",
    "    x_tensor = tf.nn.relu(x_tensor)\n",
    "    x_tensor = tf.nn.max_pool(x_tensor, [1, pool_ksize[0], pool_ksize[1], 1], [1, pool_strides[0], pool_strides[1], 1], padding='SAME')\n",
    "    return x_tensor\n",
    "\n",
    "\"\"\"\n",
    "DON'T MODIFY ANYTHING IN THIS CELL THAT IS BELOW THIS LINE\n",
    "\"\"\"\n",
    "tests.test_con_pool(conv2d_maxpool)"
   ]
  },
  {
   "cell_type": "markdown",
   "metadata": {},
   "source": [
    "### Flatten Layer\n",
    "Implement the `flatten` function to change the dimension of `x_tensor` from a 4-D tensor to a 2-D tensor.  The output should be the shape (*Batch Size*, *Flattened Image Size*). Shortcut option: you can use classes from the [TensorFlow Layers](https://www.tensorflow.org/api_docs/python/tf/layers) or [TensorFlow Layers (contrib)](https://www.tensorflow.org/api_guides/python/contrib.layers) packages for this layer. For more of a challenge, only use other TensorFlow packages."
   ]
  },
  {
   "cell_type": "code",
   "execution_count": 5,
   "metadata": {},
   "outputs": [
    {
     "name": "stdout",
     "output_type": "stream",
     "text": [
      "Tests Passed\n"
     ]
    }
   ],
   "source": [
    "def flatten(x_tensor):\n",
    "    \"\"\"\n",
    "    Flatten x_tensor to (Batch Size, Flattened Image Size)\n",
    "    : x_tensor: A tensor of size (Batch Size, ...), where ... are the image dimensions.\n",
    "    : return: A tensor of size (Batch Size, Flattened Image Size).\n",
    "    \"\"\"\n",
    "    shape = x_tensor.get_shape().as_list()\n",
    "    prod = 1\n",
    "    for i in range(1,len(shape)):\n",
    "        prod *= shape[i]\n",
    "    return tf.reshape(x_tensor, [-1, prod])\n",
    "\n",
    "\"\"\"\n",
    "DON'T MODIFY ANYTHING IN THIS CELL THAT IS BELOW THIS LINE\n",
    "\"\"\"\n",
    "tests.test_flatten(flatten)"
   ]
  },
  {
   "cell_type": "markdown",
   "metadata": {},
   "source": [
    "### Fully-Connected Layer\n",
    "Implement the `fully_conn` function to apply a fully connected layer to `x_tensor` with the shape (*Batch Size*, *num_outputs*). Shortcut option: you can use classes from the [TensorFlow Layers](https://www.tensorflow.org/api_docs/python/tf/layers) or [TensorFlow Layers (contrib)](https://www.tensorflow.org/api_guides/python/contrib.layers) packages for this layer. For more of a challenge, only use other TensorFlow packages."
   ]
  },
  {
   "cell_type": "code",
   "execution_count": 6,
   "metadata": {},
   "outputs": [
    {
     "name": "stdout",
     "output_type": "stream",
     "text": [
      "Tests Passed\n"
     ]
    }
   ],
   "source": [
    "def fully_conn(x_tensor, num_outputs):\n",
    "    \"\"\"\n",
    "    Apply a fully connected layer to x_tensor using weight and bias\n",
    "    : x_tensor: A 2-D tensor where the first dimension is batch size.\n",
    "    : num_outputs: The number of output that the new tensor should be.\n",
    "    : return: A 2-D tensor where the second dimension is num_outputs.\n",
    "    \"\"\"\n",
    "    W = tf.Variable(tf.truncated_normal([int(x_tensor.shape[1]), num_outputs], stddev=0.1))\n",
    "    b = tf.Variable(tf.zeros([num_outputs]))\n",
    "    x_tensor = tf.add(tf.matmul(x_tensor, W), b)\n",
    "    x_tensor = tf.nn.relu(x_tensor)\n",
    "    return x_tensor\n",
    "\n",
    "\"\"\"\n",
    "DON'T MODIFY ANYTHING IN THIS CELL THAT IS BELOW THIS LINE\n",
    "\"\"\"\n",
    "tests.test_fully_conn(fully_conn)"
   ]
  },
  {
   "cell_type": "markdown",
   "metadata": {},
   "source": [
    "### Output Layer\n",
    "Implement the `output` function to apply a fully connected layer to `x_tensor` with the shape (*Batch Size*, *num_outputs*). Shortcut option: you can use classes from the [TensorFlow Layers](https://www.tensorflow.org/api_docs/python/tf/layers) or [TensorFlow Layers (contrib)](https://www.tensorflow.org/api_guides/python/contrib.layers) packages for this layer. For more of a challenge, only use other TensorFlow packages.\n",
    "\n",
    "**Note:** Activation, softmax, or cross entropy should **not** be applied to this."
   ]
  },
  {
   "cell_type": "code",
   "execution_count": 7,
   "metadata": {},
   "outputs": [
    {
     "name": "stdout",
     "output_type": "stream",
     "text": [
      "Tests Passed\n"
     ]
    }
   ],
   "source": [
    "def output(x_tensor, num_outputs):\n",
    "    \"\"\"\n",
    "    Apply a output layer to x_tensor using weight and bias\n",
    "    : x_tensor: A 2-D tensor where the first dimension is batch size.\n",
    "    : num_outputs: The number of output that the new tensor should be.\n",
    "    : return: A 2-D tensor where the second dimension is num_outputs.\n",
    "    \"\"\"\n",
    "    W = tf.Variable(tf.truncated_normal([int(x_tensor.shape[1]), num_outputs], stddev=0.1))\n",
    "    b = tf.Variable(tf.zeros([num_outputs]))\n",
    "    x_tensor = tf.add(tf.matmul(x_tensor, W), b)\n",
    "    return x_tensor\n",
    "\n",
    "\"\"\"\n",
    "DON'T MODIFY ANYTHING IN THIS CELL THAT IS BELOW THIS LINE\n",
    "\"\"\"\n",
    "tests.test_output(output)"
   ]
  },
  {
   "cell_type": "markdown",
   "metadata": {},
   "source": [
    "### Create Convolutional Model\n",
    "Implement the function `conv_net` to create a convolutional neural network model. The function takes in a batch of images, `x`, and outputs logits.  Use the layers you created above to create this model:\n",
    "\n",
    "* Apply 1, 2, or 3 Convolution and Max Pool layers\n",
    "* Apply a Flatten Layer\n",
    "* Apply 1, 2, or 3 Fully Connected Layers\n",
    "* Apply an Output Layer\n",
    "* Return the output\n",
    "* Apply [TensorFlow's Dropout](https://www.tensorflow.org/api_docs/python/tf/nn/dropout) to one or more layers in the model using `keep_prob`. "
   ]
  },
  {
   "cell_type": "code",
   "execution_count": 8,
   "metadata": {},
   "outputs": [
    {
     "name": "stdout",
     "output_type": "stream",
     "text": [
      "Neural Network Built!\n"
     ]
    }
   ],
   "source": [
    "def conv_net(x, keep_prob):\n",
    "    \"\"\"\n",
    "    Create a convolutional neural network model\n",
    "    : x: Placeholder tensor that holds image data.\n",
    "    : keep_prob: Placeholder tensor that hold dropout keep probability.\n",
    "    : return: Tensor that represents logits\n",
    "    \"\"\"\n",
    "    # Apply 1, 2, or 3 Convolution and Max Pool layers\n",
    "    #    Play around with different number of outputs, kernel size and stride\n",
    "    # Function Definition from Above:\n",
    "    #    conv2d_maxpool(x_tensor, conv_num_outputs, conv_ksize, conv_strides, pool_ksize, pool_strides)\n",
    "    x = conv2d_maxpool(x, 16, [5, 5], [1, 1], [2, 2], [2, 2])\n",
    "    x = conv2d_maxpool(x, 32, [5, 5], [1, 1], [2, 2], [2, 2])\n",
    "    x = conv2d_maxpool(x, 64, [5, 5], [1, 1], [2, 2], [2, 2])\n",
    "\n",
    "    # Apply a Flatten Layer\n",
    "    # Function Definition from Above:\n",
    "    #   flatten(x_tensor)\n",
    "    x = flatten(x)\n",
    "\n",
    "    # Apply 1, 2, or 3 Fully Connected Layers\n",
    "    #    Play around with different number of outputs\n",
    "    # Function Definition from Above:\n",
    "    #   fully_conn(x_tensor, num_outputs)\n",
    "    x = fully_conn(x, 512)\n",
    "    x = tf.nn.dropout(x, keep_prob)\n",
    "    x = fully_conn(x, 512)\n",
    "    x = tf.nn.dropout(x, keep_prob)\n",
    "    x = fully_conn(x, 512)\n",
    "    \n",
    "    # Apply an Output Layer\n",
    "    #    Set this to the number of classes\n",
    "    # Function Definition from Above:\n",
    "    #   output(x_tensor, num_outputs)\n",
    "    x = output(x, 10)\n",
    "    \n",
    "    # return output\n",
    "    return x\n",
    "\n",
    "\n",
    "\"\"\"\n",
    "DON'T MODIFY ANYTHING IN THIS CELL THAT IS BELOW THIS LINE\n",
    "\"\"\"\n",
    "\n",
    "##############################\n",
    "## Build the Neural Network ##\n",
    "##############################\n",
    "\n",
    "# Remove previous weights, bias, inputs, etc..\n",
    "tf.reset_default_graph()\n",
    "\n",
    "# Inputs\n",
    "x = neural_net_image_input((32, 32, 3))\n",
    "y = neural_net_label_input(10)\n",
    "keep_prob = neural_net_keep_prob_input()\n",
    "\n",
    "# Model\n",
    "logits = conv_net(x, keep_prob)\n",
    "\n",
    "# Name logits Tensor, so that is can be loaded from disk after training\n",
    "logits = tf.identity(logits, name='logits')\n",
    "\n",
    "# Loss and Optimizer\n",
    "cost = tf.reduce_mean(tf.nn.softmax_cross_entropy_with_logits(logits=logits, labels=y))\n",
    "optimizer = tf.train.AdamOptimizer().minimize(cost)\n",
    "\n",
    "# Accuracy\n",
    "correct_pred = tf.equal(tf.argmax(logits, 1), tf.argmax(y, 1))\n",
    "accuracy = tf.reduce_mean(tf.cast(correct_pred, tf.float32), name='accuracy')\n",
    "\n",
    "tests.test_conv_net(conv_net)"
   ]
  },
  {
   "cell_type": "markdown",
   "metadata": {},
   "source": [
    "## Train the Neural Network\n",
    "### Single Optimization\n",
    "Implement the function `train_neural_network` to do a single optimization.  The optimization should use `optimizer` to optimize in `session` with a `feed_dict` of the following:\n",
    "* `x` for image input\n",
    "* `y` for labels\n",
    "* `keep_prob` for keep probability for dropout\n",
    "\n",
    "This function will be called for each batch, so `tf.global_variables_initializer()` has already been called.\n",
    "\n",
    "Note: Nothing needs to be returned. This function is only optimizing the neural network."
   ]
  },
  {
   "cell_type": "code",
   "execution_count": 9,
   "metadata": {},
   "outputs": [
    {
     "name": "stdout",
     "output_type": "stream",
     "text": [
      "Tests Passed\n"
     ]
    }
   ],
   "source": [
    "def train_neural_network(session, optimizer, keep_probability, feature_batch, label_batch):\n",
    "    \"\"\"\n",
    "    Optimize the session on a batch of images and labels\n",
    "    : session: Current TensorFlow session\n",
    "    : optimizer: TensorFlow optimizer function\n",
    "    : keep_probability: keep probability\n",
    "    : feature_batch: Batch of Numpy image data\n",
    "    : label_batch: Batch of Numpy label data\n",
    "    \"\"\"\n",
    "    session.run(optimizer, feed_dict={x: feature_batch, y: label_batch, keep_prob: keep_probability})\n",
    "\n",
    "\"\"\"\n",
    "DON'T MODIFY ANYTHING IN THIS CELL THAT IS BELOW THIS LINE\n",
    "\"\"\"\n",
    "tests.test_train_nn(train_neural_network)"
   ]
  },
  {
   "cell_type": "markdown",
   "metadata": {},
   "source": [
    "### Show Stats\n",
    "Implement the function `print_stats` to print loss and validation accuracy.  Use the global variables `valid_features` and `valid_labels` to calculate validation accuracy.  Use a keep probability of `1.0` to calculate the loss and validation accuracy."
   ]
  },
  {
   "cell_type": "code",
   "execution_count": 10,
   "metadata": {
    "collapsed": true
   },
   "outputs": [],
   "source": [
    "def print_stats(session, feature_batch, label_batch, cost, accuracy):\n",
    "    \"\"\"\n",
    "    Print information about loss and validation accuracy\n",
    "    : session: Current TensorFlow session\n",
    "    : feature_batch: Batch of Numpy image data\n",
    "    : label_batch: Batch of Numpy label data\n",
    "    : cost: TensorFlow cost function\n",
    "    : accuracy: TensorFlow accuracy function\n",
    "    \"\"\"\n",
    "    loss = session.run(cost, feed_dict={x: feature_batch, y: label_batch, keep_prob: 1.0})\n",
    "    valid_acc = session.run(accuracy, feed_dict={x: valid_features, y: valid_labels, keep_prob: 1.0})\n",
    "\n",
    "    print('Loss: {:>10.4f} Validation Accuracy: {:1.6f}'.format(loss, valid_acc))"
   ]
  },
  {
   "cell_type": "markdown",
   "metadata": {},
   "source": [
    "### Hyperparameters\n",
    "Tune the following parameters:\n",
    "* Set `epochs` to the number of iterations until the network stops learning or start overfitting\n",
    "* Set `batch_size` to the highest number that your machine has memory for.  Most people set them to common sizes of memory:\n",
    " * 64\n",
    " * 128\n",
    " * 256\n",
    " * ...\n",
    "* Set `keep_probability` to the probability of keeping a node using dropout"
   ]
  },
  {
   "cell_type": "code",
   "execution_count": 17,
   "metadata": {
    "collapsed": true
   },
   "outputs": [],
   "source": [
    "# Tune Parameters\n",
    "epochs = 64\n",
    "batch_size = 1024\n",
    "keep_probability = 0.5"
   ]
  },
  {
   "cell_type": "markdown",
   "metadata": {},
   "source": [
    "### Train on a Single CIFAR-10 Batch\n",
    "Instead of training the neural network on all the CIFAR-10 batches of data, let's use a single batch. This should save time while you iterate on the model to get a better accuracy.  Once the final validation accuracy is 50% or greater, run the model on all the data in the next section."
   ]
  },
  {
   "cell_type": "code",
   "execution_count": 18,
   "metadata": {},
   "outputs": [
    {
     "name": "stdout",
     "output_type": "stream",
     "text": [
      "Checking the Training on a Single Batch...\n",
      "Epoch  1, CIFAR-10 Batch 1:  Loss:     2.2362 Validation Accuracy: 0.156600\n",
      "Epoch  2, CIFAR-10 Batch 1:  Loss:     2.2172 Validation Accuracy: 0.208800\n",
      "Epoch  3, CIFAR-10 Batch 1:  Loss:     2.1499 Validation Accuracy: 0.225800\n",
      "Epoch  4, CIFAR-10 Batch 1:  Loss:     2.0323 Validation Accuracy: 0.236200\n",
      "Epoch  5, CIFAR-10 Batch 1:  Loss:     1.9595 Validation Accuracy: 0.275600\n",
      "Epoch  6, CIFAR-10 Batch 1:  Loss:     1.9091 Validation Accuracy: 0.305400\n",
      "Epoch  7, CIFAR-10 Batch 1:  Loss:     1.8477 Validation Accuracy: 0.332800\n",
      "Epoch  8, CIFAR-10 Batch 1:  Loss:     1.7901 Validation Accuracy: 0.361800\n",
      "Epoch  9, CIFAR-10 Batch 1:  Loss:     1.7304 Validation Accuracy: 0.375800\n",
      "Epoch 10, CIFAR-10 Batch 1:  Loss:     1.6764 Validation Accuracy: 0.395600\n",
      "Epoch 11, CIFAR-10 Batch 1:  Loss:     1.6458 Validation Accuracy: 0.407200\n",
      "Epoch 12, CIFAR-10 Batch 1:  Loss:     1.6010 Validation Accuracy: 0.420000\n",
      "Epoch 13, CIFAR-10 Batch 1:  Loss:     1.5786 Validation Accuracy: 0.425200\n",
      "Epoch 14, CIFAR-10 Batch 1:  Loss:     1.5461 Validation Accuracy: 0.437200\n",
      "Epoch 15, CIFAR-10 Batch 1:  Loss:     1.5279 Validation Accuracy: 0.440000\n",
      "Epoch 16, CIFAR-10 Batch 1:  Loss:     1.5083 Validation Accuracy: 0.443000\n",
      "Epoch 17, CIFAR-10 Batch 1:  Loss:     1.4855 Validation Accuracy: 0.452000\n",
      "Epoch 18, CIFAR-10 Batch 1:  Loss:     1.4705 Validation Accuracy: 0.456400\n",
      "Epoch 19, CIFAR-10 Batch 1:  Loss:     1.4569 Validation Accuracy: 0.463800\n",
      "Epoch 20, CIFAR-10 Batch 1:  Loss:     1.4610 Validation Accuracy: 0.463200\n",
      "Epoch 21, CIFAR-10 Batch 1:  Loss:     1.4285 Validation Accuracy: 0.473400\n",
      "Epoch 22, CIFAR-10 Batch 1:  Loss:     1.4120 Validation Accuracy: 0.480600\n",
      "Epoch 23, CIFAR-10 Batch 1:  Loss:     1.4224 Validation Accuracy: 0.483400\n",
      "Epoch 24, CIFAR-10 Batch 1:  Loss:     1.4022 Validation Accuracy: 0.492200\n",
      "Epoch 25, CIFAR-10 Batch 1:  Loss:     1.3939 Validation Accuracy: 0.493000\n",
      "Epoch 26, CIFAR-10 Batch 1:  Loss:     1.4043 Validation Accuracy: 0.497800\n",
      "Epoch 27, CIFAR-10 Batch 1:  Loss:     1.3930 Validation Accuracy: 0.501800\n",
      "Epoch 28, CIFAR-10 Batch 1:  Loss:     1.3850 Validation Accuracy: 0.500400\n",
      "Epoch 29, CIFAR-10 Batch 1:  Loss:     1.4430 Validation Accuracy: 0.498800\n",
      "Epoch 30, CIFAR-10 Batch 1:  Loss:     1.4721 Validation Accuracy: 0.490000\n",
      "Epoch 31, CIFAR-10 Batch 1:  Loss:     1.4119 Validation Accuracy: 0.504200\n",
      "Epoch 32, CIFAR-10 Batch 1:  Loss:     1.3892 Validation Accuracy: 0.517200\n",
      "Epoch 33, CIFAR-10 Batch 1:  Loss:     1.3871 Validation Accuracy: 0.512200\n",
      "Epoch 34, CIFAR-10 Batch 1:  Loss:     1.3997 Validation Accuracy: 0.522600\n",
      "Epoch 35, CIFAR-10 Batch 1:  Loss:     1.4030 Validation Accuracy: 0.520200\n",
      "Epoch 36, CIFAR-10 Batch 1:  Loss:     1.4125 Validation Accuracy: 0.522200\n",
      "Epoch 37, CIFAR-10 Batch 1:  Loss:     1.4215 Validation Accuracy: 0.531200\n",
      "Epoch 38, CIFAR-10 Batch 1:  Loss:     1.4382 Validation Accuracy: 0.529400\n",
      "Epoch 39, CIFAR-10 Batch 1:  Loss:     1.4460 Validation Accuracy: 0.532800\n",
      "Epoch 40, CIFAR-10 Batch 1:  Loss:     1.4614 Validation Accuracy: 0.525800\n",
      "Epoch 41, CIFAR-10 Batch 1:  Loss:     1.4889 Validation Accuracy: 0.526600\n",
      "Epoch 42, CIFAR-10 Batch 1:  Loss:     1.5309 Validation Accuracy: 0.525200\n",
      "Epoch 43, CIFAR-10 Batch 1:  Loss:     1.5331 Validation Accuracy: 0.525400\n",
      "Epoch 44, CIFAR-10 Batch 1:  Loss:     1.5546 Validation Accuracy: 0.520000\n",
      "Epoch 45, CIFAR-10 Batch 1:  Loss:     1.5495 Validation Accuracy: 0.528800\n",
      "Epoch 46, CIFAR-10 Batch 1:  Loss:     1.5682 Validation Accuracy: 0.513600\n",
      "Epoch 47, CIFAR-10 Batch 1:  Loss:     1.6090 Validation Accuracy: 0.530200\n",
      "Epoch 48, CIFAR-10 Batch 1:  Loss:     1.6970 Validation Accuracy: 0.525400\n",
      "Epoch 49, CIFAR-10 Batch 1:  Loss:     1.6226 Validation Accuracy: 0.527800\n",
      "Epoch 50, CIFAR-10 Batch 1:  Loss:     1.6628 Validation Accuracy: 0.522400\n",
      "Epoch 51, CIFAR-10 Batch 1:  Loss:     1.6578 Validation Accuracy: 0.535000\n",
      "Epoch 52, CIFAR-10 Batch 1:  Loss:     1.6924 Validation Accuracy: 0.540200\n",
      "Epoch 53, CIFAR-10 Batch 1:  Loss:     1.7342 Validation Accuracy: 0.527400\n",
      "Epoch 54, CIFAR-10 Batch 1:  Loss:     1.8108 Validation Accuracy: 0.532600\n",
      "Epoch 55, CIFAR-10 Batch 1:  Loss:     1.8105 Validation Accuracy: 0.528200\n",
      "Epoch 56, CIFAR-10 Batch 1:  Loss:     1.8511 Validation Accuracy: 0.534400\n",
      "Epoch 57, CIFAR-10 Batch 1:  Loss:     1.8685 Validation Accuracy: 0.529400\n",
      "Epoch 58, CIFAR-10 Batch 1:  Loss:     1.8180 Validation Accuracy: 0.526600\n",
      "Epoch 59, CIFAR-10 Batch 1:  Loss:     1.9352 Validation Accuracy: 0.522200\n",
      "Epoch 60, CIFAR-10 Batch 1:  Loss:     1.8701 Validation Accuracy: 0.532800\n",
      "Epoch 61, CIFAR-10 Batch 1:  Loss:     1.9034 Validation Accuracy: 0.532600\n",
      "Epoch 62, CIFAR-10 Batch 1:  Loss:     1.9105 Validation Accuracy: 0.534600\n",
      "Epoch 63, CIFAR-10 Batch 1:  Loss:     1.9754 Validation Accuracy: 0.528000\n",
      "Epoch 64, CIFAR-10 Batch 1:  Loss:     2.0675 Validation Accuracy: 0.525800\n"
     ]
    }
   ],
   "source": [
    "\"\"\"\n",
    "DON'T MODIFY ANYTHING IN THIS CELL\n",
    "\"\"\"\n",
    "print('Checking the Training on a Single Batch...')\n",
    "with tf.Session() as sess:\n",
    "    # Initializing the variables\n",
    "    sess.run(tf.global_variables_initializer())\n",
    "    \n",
    "    # Training cycle\n",
    "    for epoch in range(epochs):\n",
    "        batch_i = 1\n",
    "        for batch_features, batch_labels in helper.load_preprocess_training_batch(batch_i, batch_size):\n",
    "            train_neural_network(sess, optimizer, keep_probability, batch_features, batch_labels)\n",
    "        print('Epoch {:>2}, CIFAR-10 Batch {}:  '.format(epoch + 1, batch_i), end='')\n",
    "        print_stats(sess, batch_features, batch_labels, cost, accuracy)"
   ]
  },
  {
   "cell_type": "markdown",
   "metadata": {},
   "source": [
    "### Fully Train the Model\n",
    "Now that you got a good accuracy with a single CIFAR-10 batch, try it with all five batches."
   ]
  },
  {
   "cell_type": "code",
   "execution_count": 19,
   "metadata": {},
   "outputs": [
    {
     "name": "stdout",
     "output_type": "stream",
     "text": [
      "Training...\n",
      "Epoch  1, CIFAR-10 Batch 1:  Loss:     2.3985 Validation Accuracy: 0.116200\n",
      "Epoch  1, CIFAR-10 Batch 2:  Loss:     2.2568 Validation Accuracy: 0.157200\n",
      "Epoch  1, CIFAR-10 Batch 3:  Loss:     2.2363 Validation Accuracy: 0.209400\n",
      "Epoch  1, CIFAR-10 Batch 4:  Loss:     2.1947 Validation Accuracy: 0.238600\n",
      "Epoch  1, CIFAR-10 Batch 5:  Loss:     2.1057 Validation Accuracy: 0.256400\n",
      "Epoch  2, CIFAR-10 Batch 1:  Loss:     2.0038 Validation Accuracy: 0.304600\n",
      "Epoch  2, CIFAR-10 Batch 2:  Loss:     1.9104 Validation Accuracy: 0.330600\n",
      "Epoch  2, CIFAR-10 Batch 3:  Loss:     1.8345 Validation Accuracy: 0.354400\n",
      "Epoch  2, CIFAR-10 Batch 4:  Loss:     1.8010 Validation Accuracy: 0.364800\n",
      "Epoch  2, CIFAR-10 Batch 5:  Loss:     1.7277 Validation Accuracy: 0.380800\n",
      "Epoch  3, CIFAR-10 Batch 1:  Loss:     1.7118 Validation Accuracy: 0.382800\n",
      "Epoch  3, CIFAR-10 Batch 2:  Loss:     1.6897 Validation Accuracy: 0.397600\n",
      "Epoch  3, CIFAR-10 Batch 3:  Loss:     1.6150 Validation Accuracy: 0.413800\n",
      "Epoch  3, CIFAR-10 Batch 4:  Loss:     1.6093 Validation Accuracy: 0.421400\n",
      "Epoch  3, CIFAR-10 Batch 5:  Loss:     1.5615 Validation Accuracy: 0.435400\n",
      "Epoch  4, CIFAR-10 Batch 1:  Loss:     1.5345 Validation Accuracy: 0.442600\n",
      "Epoch  4, CIFAR-10 Batch 2:  Loss:     1.5906 Validation Accuracy: 0.429000\n",
      "Epoch  4, CIFAR-10 Batch 3:  Loss:     1.5020 Validation Accuracy: 0.455600\n",
      "Epoch  4, CIFAR-10 Batch 4:  Loss:     1.5022 Validation Accuracy: 0.458800\n",
      "Epoch  4, CIFAR-10 Batch 5:  Loss:     1.4745 Validation Accuracy: 0.464400\n",
      "Epoch  5, CIFAR-10 Batch 1:  Loss:     1.4466 Validation Accuracy: 0.476400\n",
      "Epoch  5, CIFAR-10 Batch 2:  Loss:     1.4870 Validation Accuracy: 0.466600\n",
      "Epoch  5, CIFAR-10 Batch 3:  Loss:     1.4226 Validation Accuracy: 0.486200\n",
      "Epoch  5, CIFAR-10 Batch 4:  Loss:     1.4315 Validation Accuracy: 0.487200\n",
      "Epoch  5, CIFAR-10 Batch 5:  Loss:     1.4348 Validation Accuracy: 0.484200\n",
      "Epoch  6, CIFAR-10 Batch 1:  Loss:     1.3970 Validation Accuracy: 0.488400\n",
      "Epoch  6, CIFAR-10 Batch 2:  Loss:     1.4340 Validation Accuracy: 0.485400\n",
      "Epoch  6, CIFAR-10 Batch 3:  Loss:     1.3895 Validation Accuracy: 0.501200\n",
      "Epoch  6, CIFAR-10 Batch 4:  Loss:     1.4282 Validation Accuracy: 0.494800\n",
      "Epoch  6, CIFAR-10 Batch 5:  Loss:     1.3828 Validation Accuracy: 0.502200\n",
      "Epoch  7, CIFAR-10 Batch 1:  Loss:     1.3595 Validation Accuracy: 0.511600\n",
      "Epoch  7, CIFAR-10 Batch 2:  Loss:     1.3565 Validation Accuracy: 0.513600\n",
      "Epoch  7, CIFAR-10 Batch 3:  Loss:     1.3326 Validation Accuracy: 0.509400\n",
      "Epoch  7, CIFAR-10 Batch 4:  Loss:     1.3338 Validation Accuracy: 0.520800\n",
      "Epoch  7, CIFAR-10 Batch 5:  Loss:     1.3136 Validation Accuracy: 0.527000\n",
      "Epoch  8, CIFAR-10 Batch 1:  Loss:     1.3147 Validation Accuracy: 0.525200\n",
      "Epoch  8, CIFAR-10 Batch 2:  Loss:     1.3219 Validation Accuracy: 0.523400\n",
      "Epoch  8, CIFAR-10 Batch 3:  Loss:     1.3063 Validation Accuracy: 0.523000\n",
      "Epoch  8, CIFAR-10 Batch 4:  Loss:     1.2901 Validation Accuracy: 0.534200\n",
      "Epoch  8, CIFAR-10 Batch 5:  Loss:     1.2863 Validation Accuracy: 0.534200\n",
      "Epoch  9, CIFAR-10 Batch 1:  Loss:     1.2815 Validation Accuracy: 0.539200\n",
      "Epoch  9, CIFAR-10 Batch 2:  Loss:     1.3658 Validation Accuracy: 0.509400\n",
      "Epoch  9, CIFAR-10 Batch 3:  Loss:     1.2717 Validation Accuracy: 0.536600\n",
      "Epoch  9, CIFAR-10 Batch 4:  Loss:     1.2602 Validation Accuracy: 0.539600\n",
      "Epoch  9, CIFAR-10 Batch 5:  Loss:     1.2610 Validation Accuracy: 0.537800\n",
      "Epoch 10, CIFAR-10 Batch 1:  Loss:     1.2415 Validation Accuracy: 0.548800\n",
      "Epoch 10, CIFAR-10 Batch 2:  Loss:     1.2601 Validation Accuracy: 0.542800\n",
      "Epoch 10, CIFAR-10 Batch 3:  Loss:     1.2310 Validation Accuracy: 0.551000\n",
      "Epoch 10, CIFAR-10 Batch 4:  Loss:     1.2298 Validation Accuracy: 0.558200\n",
      "Epoch 10, CIFAR-10 Batch 5:  Loss:     1.2248 Validation Accuracy: 0.556200\n",
      "Epoch 11, CIFAR-10 Batch 1:  Loss:     1.2552 Validation Accuracy: 0.547600\n",
      "Epoch 11, CIFAR-10 Batch 2:  Loss:     1.2230 Validation Accuracy: 0.552800\n",
      "Epoch 11, CIFAR-10 Batch 3:  Loss:     1.2177 Validation Accuracy: 0.560200\n",
      "Epoch 11, CIFAR-10 Batch 4:  Loss:     1.2008 Validation Accuracy: 0.570800\n",
      "Epoch 11, CIFAR-10 Batch 5:  Loss:     1.1982 Validation Accuracy: 0.565800\n",
      "Epoch 12, CIFAR-10 Batch 1:  Loss:     1.1896 Validation Accuracy: 0.569800\n",
      "Epoch 12, CIFAR-10 Batch 2:  Loss:     1.2153 Validation Accuracy: 0.552800\n",
      "Epoch 12, CIFAR-10 Batch 3:  Loss:     1.1793 Validation Accuracy: 0.573400\n",
      "Epoch 12, CIFAR-10 Batch 4:  Loss:     1.1860 Validation Accuracy: 0.569600\n",
      "Epoch 12, CIFAR-10 Batch 5:  Loss:     1.1646 Validation Accuracy: 0.579200\n",
      "Epoch 13, CIFAR-10 Batch 1:  Loss:     1.1630 Validation Accuracy: 0.579600\n",
      "Epoch 13, CIFAR-10 Batch 2:  Loss:     1.2060 Validation Accuracy: 0.557800\n",
      "Epoch 13, CIFAR-10 Batch 3:  Loss:     1.1956 Validation Accuracy: 0.571000\n",
      "Epoch 13, CIFAR-10 Batch 4:  Loss:     1.1647 Validation Accuracy: 0.574600\n",
      "Epoch 13, CIFAR-10 Batch 5:  Loss:     1.1427 Validation Accuracy: 0.587200\n",
      "Epoch 14, CIFAR-10 Batch 1:  Loss:     1.1742 Validation Accuracy: 0.576600\n",
      "Epoch 14, CIFAR-10 Batch 2:  Loss:     1.1804 Validation Accuracy: 0.568400\n",
      "Epoch 14, CIFAR-10 Batch 3:  Loss:     1.1912 Validation Accuracy: 0.567800\n",
      "Epoch 14, CIFAR-10 Batch 4:  Loss:     1.1666 Validation Accuracy: 0.583400\n",
      "Epoch 14, CIFAR-10 Batch 5:  Loss:     1.1339 Validation Accuracy: 0.593600\n",
      "Epoch 15, CIFAR-10 Batch 1:  Loss:     1.1377 Validation Accuracy: 0.588200\n",
      "Epoch 15, CIFAR-10 Batch 2:  Loss:     1.1588 Validation Accuracy: 0.587200\n",
      "Epoch 15, CIFAR-10 Batch 3:  Loss:     1.1794 Validation Accuracy: 0.575400\n",
      "Epoch 15, CIFAR-10 Batch 4:  Loss:     1.2014 Validation Accuracy: 0.565800\n",
      "Epoch 15, CIFAR-10 Batch 5:  Loss:     1.1761 Validation Accuracy: 0.573200\n",
      "Epoch 16, CIFAR-10 Batch 1:  Loss:     1.1284 Validation Accuracy: 0.599200\n",
      "Epoch 16, CIFAR-10 Batch 2:  Loss:     1.1504 Validation Accuracy: 0.588200\n",
      "Epoch 16, CIFAR-10 Batch 3:  Loss:     1.1531 Validation Accuracy: 0.587200\n",
      "Epoch 16, CIFAR-10 Batch 4:  Loss:     1.1308 Validation Accuracy: 0.602200\n",
      "Epoch 16, CIFAR-10 Batch 5:  Loss:     1.1480 Validation Accuracy: 0.588400\n",
      "Epoch 17, CIFAR-10 Batch 1:  Loss:     1.1223 Validation Accuracy: 0.599600\n",
      "Epoch 17, CIFAR-10 Batch 2:  Loss:     1.1162 Validation Accuracy: 0.605000\n",
      "Epoch 17, CIFAR-10 Batch 3:  Loss:     1.1401 Validation Accuracy: 0.594800\n",
      "Epoch 17, CIFAR-10 Batch 4:  Loss:     1.1209 Validation Accuracy: 0.601600\n",
      "Epoch 17, CIFAR-10 Batch 5:  Loss:     1.1378 Validation Accuracy: 0.592200\n",
      "Epoch 18, CIFAR-10 Batch 1:  Loss:     1.1051 Validation Accuracy: 0.612200\n",
      "Epoch 18, CIFAR-10 Batch 2:  Loss:     1.1077 Validation Accuracy: 0.613600\n",
      "Epoch 18, CIFAR-10 Batch 3:  Loss:     1.1465 Validation Accuracy: 0.596800\n",
      "Epoch 18, CIFAR-10 Batch 4:  Loss:     1.1359 Validation Accuracy: 0.593200\n",
      "Epoch 18, CIFAR-10 Batch 5:  Loss:     1.1188 Validation Accuracy: 0.602200\n",
      "Epoch 19, CIFAR-10 Batch 1:  Loss:     1.0987 Validation Accuracy: 0.611400\n",
      "Epoch 19, CIFAR-10 Batch 2:  Loss:     1.1041 Validation Accuracy: 0.604800\n",
      "Epoch 19, CIFAR-10 Batch 3:  Loss:     1.1390 Validation Accuracy: 0.600600\n",
      "Epoch 19, CIFAR-10 Batch 4:  Loss:     1.1020 Validation Accuracy: 0.612600\n",
      "Epoch 19, CIFAR-10 Batch 5:  Loss:     1.1211 Validation Accuracy: 0.601200\n",
      "Epoch 20, CIFAR-10 Batch 1:  Loss:     1.0941 Validation Accuracy: 0.615800\n",
      "Epoch 20, CIFAR-10 Batch 2:  Loss:     1.1103 Validation Accuracy: 0.612400\n",
      "Epoch 20, CIFAR-10 Batch 3:  Loss:     1.1477 Validation Accuracy: 0.606600\n",
      "Epoch 20, CIFAR-10 Batch 4:  Loss:     1.0676 Validation Accuracy: 0.621600\n",
      "Epoch 20, CIFAR-10 Batch 5:  Loss:     1.1184 Validation Accuracy: 0.602800\n",
      "Epoch 21, CIFAR-10 Batch 1:  Loss:     1.1780 Validation Accuracy: 0.587200\n",
      "Epoch 21, CIFAR-10 Batch 2:  Loss:     1.1551 Validation Accuracy: 0.596600\n",
      "Epoch 21, CIFAR-10 Batch 3:  Loss:     1.1032 Validation Accuracy: 0.617000\n",
      "Epoch 21, CIFAR-10 Batch 4:  Loss:     1.0902 Validation Accuracy: 0.615800\n",
      "Epoch 21, CIFAR-10 Batch 5:  Loss:     1.0792 Validation Accuracy: 0.627400\n",
      "Epoch 22, CIFAR-10 Batch 1:  Loss:     1.0746 Validation Accuracy: 0.628200\n",
      "Epoch 22, CIFAR-10 Batch 2:  Loss:     1.1096 Validation Accuracy: 0.618600\n",
      "Epoch 22, CIFAR-10 Batch 3:  Loss:     1.0892 Validation Accuracy: 0.623000\n"
     ]
    },
    {
     "name": "stdout",
     "output_type": "stream",
     "text": [
      "Epoch 22, CIFAR-10 Batch 4:  Loss:     1.1199 Validation Accuracy: 0.607600\n",
      "Epoch 22, CIFAR-10 Batch 5:  Loss:     1.0969 Validation Accuracy: 0.615800\n",
      "Epoch 23, CIFAR-10 Batch 1:  Loss:     1.0841 Validation Accuracy: 0.624800\n",
      "Epoch 23, CIFAR-10 Batch 2:  Loss:     1.0973 Validation Accuracy: 0.620400\n",
      "Epoch 23, CIFAR-10 Batch 3:  Loss:     1.0952 Validation Accuracy: 0.622000\n",
      "Epoch 23, CIFAR-10 Batch 4:  Loss:     1.0952 Validation Accuracy: 0.615800\n",
      "Epoch 23, CIFAR-10 Batch 5:  Loss:     1.0736 Validation Accuracy: 0.627200\n",
      "Epoch 24, CIFAR-10 Batch 1:  Loss:     1.0823 Validation Accuracy: 0.631200\n",
      "Epoch 24, CIFAR-10 Batch 2:  Loss:     1.0867 Validation Accuracy: 0.621200\n",
      "Epoch 24, CIFAR-10 Batch 3:  Loss:     1.0942 Validation Accuracy: 0.628400\n",
      "Epoch 24, CIFAR-10 Batch 4:  Loss:     1.1078 Validation Accuracy: 0.616400\n",
      "Epoch 24, CIFAR-10 Batch 5:  Loss:     1.0687 Validation Accuracy: 0.629400\n",
      "Epoch 25, CIFAR-10 Batch 1:  Loss:     1.0758 Validation Accuracy: 0.631400\n",
      "Epoch 25, CIFAR-10 Batch 2:  Loss:     1.0925 Validation Accuracy: 0.623200\n",
      "Epoch 25, CIFAR-10 Batch 3:  Loss:     1.0952 Validation Accuracy: 0.629800\n",
      "Epoch 25, CIFAR-10 Batch 4:  Loss:     1.0774 Validation Accuracy: 0.623000\n",
      "Epoch 25, CIFAR-10 Batch 5:  Loss:     1.0882 Validation Accuracy: 0.623600\n",
      "Epoch 26, CIFAR-10 Batch 1:  Loss:     1.0974 Validation Accuracy: 0.630600\n",
      "Epoch 26, CIFAR-10 Batch 2:  Loss:     1.0690 Validation Accuracy: 0.630400\n",
      "Epoch 26, CIFAR-10 Batch 3:  Loss:     1.1005 Validation Accuracy: 0.635200\n",
      "Epoch 26, CIFAR-10 Batch 4:  Loss:     1.0920 Validation Accuracy: 0.627000\n",
      "Epoch 26, CIFAR-10 Batch 5:  Loss:     1.1131 Validation Accuracy: 0.616600\n",
      "Epoch 27, CIFAR-10 Batch 1:  Loss:     1.0930 Validation Accuracy: 0.628600\n",
      "Epoch 27, CIFAR-10 Batch 2:  Loss:     1.1035 Validation Accuracy: 0.623200\n",
      "Epoch 27, CIFAR-10 Batch 3:  Loss:     1.1590 Validation Accuracy: 0.615800\n",
      "Epoch 27, CIFAR-10 Batch 4:  Loss:     1.0872 Validation Accuracy: 0.620400\n",
      "Epoch 27, CIFAR-10 Batch 5:  Loss:     1.1216 Validation Accuracy: 0.617000\n",
      "Epoch 28, CIFAR-10 Batch 1:  Loss:     1.1047 Validation Accuracy: 0.630800\n",
      "Epoch 28, CIFAR-10 Batch 2:  Loss:     1.1932 Validation Accuracy: 0.597200\n",
      "Epoch 28, CIFAR-10 Batch 3:  Loss:     1.1250 Validation Accuracy: 0.621000\n",
      "Epoch 28, CIFAR-10 Batch 4:  Loss:     1.1349 Validation Accuracy: 0.615000\n",
      "Epoch 28, CIFAR-10 Batch 5:  Loss:     1.0993 Validation Accuracy: 0.620200\n",
      "Epoch 29, CIFAR-10 Batch 1:  Loss:     1.0978 Validation Accuracy: 0.633800\n",
      "Epoch 29, CIFAR-10 Batch 2:  Loss:     1.1165 Validation Accuracy: 0.623200\n",
      "Epoch 29, CIFAR-10 Batch 3:  Loss:     1.1390 Validation Accuracy: 0.620800\n",
      "Epoch 29, CIFAR-10 Batch 4:  Loss:     1.1186 Validation Accuracy: 0.621800\n",
      "Epoch 29, CIFAR-10 Batch 5:  Loss:     1.1475 Validation Accuracy: 0.611800\n",
      "Epoch 30, CIFAR-10 Batch 1:  Loss:     1.0878 Validation Accuracy: 0.631800\n",
      "Epoch 30, CIFAR-10 Batch 2:  Loss:     1.1425 Validation Accuracy: 0.619000\n",
      "Epoch 30, CIFAR-10 Batch 3:  Loss:     1.1059 Validation Accuracy: 0.628600\n",
      "Epoch 30, CIFAR-10 Batch 4:  Loss:     1.1370 Validation Accuracy: 0.617800\n",
      "Epoch 30, CIFAR-10 Batch 5:  Loss:     1.1651 Validation Accuracy: 0.613200\n",
      "Epoch 31, CIFAR-10 Batch 1:  Loss:     1.0986 Validation Accuracy: 0.633800\n",
      "Epoch 31, CIFAR-10 Batch 2:  Loss:     1.1371 Validation Accuracy: 0.626600\n",
      "Epoch 31, CIFAR-10 Batch 3:  Loss:     1.1708 Validation Accuracy: 0.614000\n",
      "Epoch 31, CIFAR-10 Batch 4:  Loss:     1.1245 Validation Accuracy: 0.623200\n",
      "Epoch 31, CIFAR-10 Batch 5:  Loss:     1.1008 Validation Accuracy: 0.621600\n",
      "Epoch 32, CIFAR-10 Batch 1:  Loss:     1.0535 Validation Accuracy: 0.643200\n",
      "Epoch 32, CIFAR-10 Batch 2:  Loss:     1.0608 Validation Accuracy: 0.647200\n",
      "Epoch 32, CIFAR-10 Batch 3:  Loss:     1.1006 Validation Accuracy: 0.625600\n",
      "Epoch 32, CIFAR-10 Batch 4:  Loss:     1.1534 Validation Accuracy: 0.618200\n",
      "Epoch 32, CIFAR-10 Batch 5:  Loss:     1.1149 Validation Accuracy: 0.620400\n",
      "Epoch 33, CIFAR-10 Batch 1:  Loss:     1.0830 Validation Accuracy: 0.643400\n",
      "Epoch 33, CIFAR-10 Batch 2:  Loss:     1.0528 Validation Accuracy: 0.652200\n",
      "Epoch 33, CIFAR-10 Batch 3:  Loss:     1.0932 Validation Accuracy: 0.640600\n",
      "Epoch 33, CIFAR-10 Batch 4:  Loss:     1.1519 Validation Accuracy: 0.620400\n",
      "Epoch 33, CIFAR-10 Batch 5:  Loss:     1.1315 Validation Accuracy: 0.622600\n",
      "Epoch 34, CIFAR-10 Batch 1:  Loss:     1.1279 Validation Accuracy: 0.636400\n",
      "Epoch 34, CIFAR-10 Batch 2:  Loss:     1.0686 Validation Accuracy: 0.648800\n",
      "Epoch 34, CIFAR-10 Batch 3:  Loss:     1.1002 Validation Accuracy: 0.641000\n",
      "Epoch 34, CIFAR-10 Batch 4:  Loss:     1.1554 Validation Accuracy: 0.631000\n",
      "Epoch 34, CIFAR-10 Batch 5:  Loss:     1.1340 Validation Accuracy: 0.627200\n",
      "Epoch 35, CIFAR-10 Batch 1:  Loss:     1.1277 Validation Accuracy: 0.642000\n",
      "Epoch 35, CIFAR-10 Batch 2:  Loss:     1.1149 Validation Accuracy: 0.640400\n",
      "Epoch 35, CIFAR-10 Batch 3:  Loss:     1.1260 Validation Accuracy: 0.635400\n",
      "Epoch 35, CIFAR-10 Batch 4:  Loss:     1.0857 Validation Accuracy: 0.632800\n",
      "Epoch 35, CIFAR-10 Batch 5:  Loss:     1.1651 Validation Accuracy: 0.627800\n",
      "Epoch 36, CIFAR-10 Batch 1:  Loss:     1.1507 Validation Accuracy: 0.634200\n",
      "Epoch 36, CIFAR-10 Batch 2:  Loss:     1.1168 Validation Accuracy: 0.641200\n",
      "Epoch 36, CIFAR-10 Batch 3:  Loss:     1.1201 Validation Accuracy: 0.636600\n",
      "Epoch 36, CIFAR-10 Batch 4:  Loss:     1.1041 Validation Accuracy: 0.632400\n",
      "Epoch 36, CIFAR-10 Batch 5:  Loss:     1.1151 Validation Accuracy: 0.627000\n",
      "Epoch 37, CIFAR-10 Batch 1:  Loss:     1.1797 Validation Accuracy: 0.632000\n",
      "Epoch 37, CIFAR-10 Batch 2:  Loss:     1.0910 Validation Accuracy: 0.646600\n",
      "Epoch 37, CIFAR-10 Batch 3:  Loss:     1.1203 Validation Accuracy: 0.638800\n",
      "Epoch 37, CIFAR-10 Batch 4:  Loss:     1.1554 Validation Accuracy: 0.615200\n",
      "Epoch 37, CIFAR-10 Batch 5:  Loss:     1.1486 Validation Accuracy: 0.630800\n",
      "Epoch 38, CIFAR-10 Batch 1:  Loss:     1.1438 Validation Accuracy: 0.629600\n",
      "Epoch 38, CIFAR-10 Batch 2:  Loss:     1.1001 Validation Accuracy: 0.646400\n",
      "Epoch 38, CIFAR-10 Batch 3:  Loss:     1.1120 Validation Accuracy: 0.640600\n",
      "Epoch 38, CIFAR-10 Batch 4:  Loss:     1.1591 Validation Accuracy: 0.619800\n",
      "Epoch 38, CIFAR-10 Batch 5:  Loss:     1.2496 Validation Accuracy: 0.617000\n",
      "Epoch 39, CIFAR-10 Batch 1:  Loss:     1.1080 Validation Accuracy: 0.634800\n",
      "Epoch 39, CIFAR-10 Batch 2:  Loss:     1.1080 Validation Accuracy: 0.643200\n",
      "Epoch 39, CIFAR-10 Batch 3:  Loss:     1.1671 Validation Accuracy: 0.629800\n",
      "Epoch 39, CIFAR-10 Batch 4:  Loss:     1.1291 Validation Accuracy: 0.631200\n",
      "Epoch 39, CIFAR-10 Batch 5:  Loss:     1.1820 Validation Accuracy: 0.611800\n",
      "Epoch 40, CIFAR-10 Batch 1:  Loss:     1.1686 Validation Accuracy: 0.633000\n",
      "Epoch 40, CIFAR-10 Batch 2:  Loss:     1.0880 Validation Accuracy: 0.642800\n",
      "Epoch 40, CIFAR-10 Batch 3:  Loss:     1.1635 Validation Accuracy: 0.642000\n",
      "Epoch 40, CIFAR-10 Batch 4:  Loss:     1.0919 Validation Accuracy: 0.647600\n",
      "Epoch 40, CIFAR-10 Batch 5:  Loss:     1.1686 Validation Accuracy: 0.628800\n",
      "Epoch 41, CIFAR-10 Batch 1:  Loss:     1.1962 Validation Accuracy: 0.626400\n",
      "Epoch 41, CIFAR-10 Batch 2:  Loss:     1.1351 Validation Accuracy: 0.645000\n",
      "Epoch 41, CIFAR-10 Batch 3:  Loss:     1.1551 Validation Accuracy: 0.641200\n",
      "Epoch 41, CIFAR-10 Batch 4:  Loss:     1.1218 Validation Accuracy: 0.640000\n",
      "Epoch 41, CIFAR-10 Batch 5:  Loss:     1.1614 Validation Accuracy: 0.635800\n",
      "Epoch 42, CIFAR-10 Batch 1:  Loss:     1.1693 Validation Accuracy: 0.640200\n",
      "Epoch 42, CIFAR-10 Batch 2:  Loss:     1.1586 Validation Accuracy: 0.637800\n",
      "Epoch 42, CIFAR-10 Batch 3:  Loss:     1.1335 Validation Accuracy: 0.644800\n",
      "Epoch 42, CIFAR-10 Batch 4:  Loss:     1.1267 Validation Accuracy: 0.644000\n",
      "Epoch 42, CIFAR-10 Batch 5:  Loss:     1.1243 Validation Accuracy: 0.646800\n",
      "Epoch 43, CIFAR-10 Batch 1:  Loss:     1.1787 Validation Accuracy: 0.641200\n",
      "Epoch 43, CIFAR-10 Batch 2:  Loss:     1.1275 Validation Accuracy: 0.644600\n",
      "Epoch 43, CIFAR-10 Batch 3:  Loss:     1.1514 Validation Accuracy: 0.646000\n",
      "Epoch 43, CIFAR-10 Batch 4:  Loss:     1.1766 Validation Accuracy: 0.639200\n",
      "Epoch 43, CIFAR-10 Batch 5:  Loss:     1.1276 Validation Accuracy: 0.641600\n",
      "Epoch 44, CIFAR-10 Batch 1:  Loss:     1.2019 Validation Accuracy: 0.636800\n"
     ]
    },
    {
     "name": "stdout",
     "output_type": "stream",
     "text": [
      "Epoch 44, CIFAR-10 Batch 2:  Loss:     1.1434 Validation Accuracy: 0.648200\n",
      "Epoch 44, CIFAR-10 Batch 3:  Loss:     1.1483 Validation Accuracy: 0.643000\n",
      "Epoch 44, CIFAR-10 Batch 4:  Loss:     1.1387 Validation Accuracy: 0.654200\n",
      "Epoch 44, CIFAR-10 Batch 5:  Loss:     1.1543 Validation Accuracy: 0.639400\n",
      "Epoch 45, CIFAR-10 Batch 1:  Loss:     1.2213 Validation Accuracy: 0.633400\n",
      "Epoch 45, CIFAR-10 Batch 2:  Loss:     1.1398 Validation Accuracy: 0.648400\n",
      "Epoch 45, CIFAR-10 Batch 3:  Loss:     1.1695 Validation Accuracy: 0.643600\n",
      "Epoch 45, CIFAR-10 Batch 4:  Loss:     1.1677 Validation Accuracy: 0.649600\n",
      "Epoch 45, CIFAR-10 Batch 5:  Loss:     1.1550 Validation Accuracy: 0.647600\n",
      "Epoch 46, CIFAR-10 Batch 1:  Loss:     1.2034 Validation Accuracy: 0.642200\n",
      "Epoch 46, CIFAR-10 Batch 2:  Loss:     1.1609 Validation Accuracy: 0.638600\n",
      "Epoch 46, CIFAR-10 Batch 3:  Loss:     1.1533 Validation Accuracy: 0.644200\n",
      "Epoch 46, CIFAR-10 Batch 4:  Loss:     1.2585 Validation Accuracy: 0.623000\n",
      "Epoch 46, CIFAR-10 Batch 5:  Loss:     1.1863 Validation Accuracy: 0.631800\n",
      "Epoch 47, CIFAR-10 Batch 1:  Loss:     1.2228 Validation Accuracy: 0.633800\n",
      "Epoch 47, CIFAR-10 Batch 2:  Loss:     1.1775 Validation Accuracy: 0.638600\n",
      "Epoch 47, CIFAR-10 Batch 3:  Loss:     1.1486 Validation Accuracy: 0.647200\n",
      "Epoch 47, CIFAR-10 Batch 4:  Loss:     1.2486 Validation Accuracy: 0.629200\n",
      "Epoch 47, CIFAR-10 Batch 5:  Loss:     1.2106 Validation Accuracy: 0.625600\n",
      "Epoch 48, CIFAR-10 Batch 1:  Loss:     1.2101 Validation Accuracy: 0.641200\n",
      "Epoch 48, CIFAR-10 Batch 2:  Loss:     1.2035 Validation Accuracy: 0.639600\n",
      "Epoch 48, CIFAR-10 Batch 3:  Loss:     1.1291 Validation Accuracy: 0.650000\n",
      "Epoch 48, CIFAR-10 Batch 4:  Loss:     1.2376 Validation Accuracy: 0.636200\n",
      "Epoch 48, CIFAR-10 Batch 5:  Loss:     1.2652 Validation Accuracy: 0.620200\n",
      "Epoch 49, CIFAR-10 Batch 1:  Loss:     1.2650 Validation Accuracy: 0.629800\n",
      "Epoch 49, CIFAR-10 Batch 2:  Loss:     1.1940 Validation Accuracy: 0.634600\n",
      "Epoch 49, CIFAR-10 Batch 3:  Loss:     1.1978 Validation Accuracy: 0.631000\n",
      "Epoch 49, CIFAR-10 Batch 4:  Loss:     1.2426 Validation Accuracy: 0.635600\n",
      "Epoch 49, CIFAR-10 Batch 5:  Loss:     1.3127 Validation Accuracy: 0.612400\n",
      "Epoch 50, CIFAR-10 Batch 1:  Loss:     1.2341 Validation Accuracy: 0.636800\n",
      "Epoch 50, CIFAR-10 Batch 2:  Loss:     1.1837 Validation Accuracy: 0.647200\n",
      "Epoch 50, CIFAR-10 Batch 3:  Loss:     1.1808 Validation Accuracy: 0.638400\n",
      "Epoch 50, CIFAR-10 Batch 4:  Loss:     1.1701 Validation Accuracy: 0.646000\n",
      "Epoch 50, CIFAR-10 Batch 5:  Loss:     1.1893 Validation Accuracy: 0.642400\n",
      "Epoch 51, CIFAR-10 Batch 1:  Loss:     1.2388 Validation Accuracy: 0.630600\n",
      "Epoch 51, CIFAR-10 Batch 2:  Loss:     1.2162 Validation Accuracy: 0.640400\n",
      "Epoch 51, CIFAR-10 Batch 3:  Loss:     1.3042 Validation Accuracy: 0.620800\n",
      "Epoch 51, CIFAR-10 Batch 4:  Loss:     1.1750 Validation Accuracy: 0.643200\n",
      "Epoch 51, CIFAR-10 Batch 5:  Loss:     1.2697 Validation Accuracy: 0.632600\n",
      "Epoch 52, CIFAR-10 Batch 1:  Loss:     1.2484 Validation Accuracy: 0.633600\n",
      "Epoch 52, CIFAR-10 Batch 2:  Loss:     1.2216 Validation Accuracy: 0.632800\n",
      "Epoch 52, CIFAR-10 Batch 3:  Loss:     1.2433 Validation Accuracy: 0.637800\n",
      "Epoch 52, CIFAR-10 Batch 4:  Loss:     1.1607 Validation Accuracy: 0.645200\n",
      "Epoch 52, CIFAR-10 Batch 5:  Loss:     1.1988 Validation Accuracy: 0.644400\n",
      "Epoch 53, CIFAR-10 Batch 1:  Loss:     1.1872 Validation Accuracy: 0.641800\n",
      "Epoch 53, CIFAR-10 Batch 2:  Loss:     1.2291 Validation Accuracy: 0.645400\n",
      "Epoch 53, CIFAR-10 Batch 3:  Loss:     1.2531 Validation Accuracy: 0.638400\n",
      "Epoch 53, CIFAR-10 Batch 4:  Loss:     1.1731 Validation Accuracy: 0.651600\n",
      "Epoch 53, CIFAR-10 Batch 5:  Loss:     1.2214 Validation Accuracy: 0.645200\n",
      "Epoch 54, CIFAR-10 Batch 1:  Loss:     1.2373 Validation Accuracy: 0.641400\n",
      "Epoch 54, CIFAR-10 Batch 2:  Loss:     1.2102 Validation Accuracy: 0.646600\n",
      "Epoch 54, CIFAR-10 Batch 3:  Loss:     1.2631 Validation Accuracy: 0.643200\n",
      "Epoch 54, CIFAR-10 Batch 4:  Loss:     1.1938 Validation Accuracy: 0.651800\n",
      "Epoch 54, CIFAR-10 Batch 5:  Loss:     1.2591 Validation Accuracy: 0.639200\n",
      "Epoch 55, CIFAR-10 Batch 1:  Loss:     1.2726 Validation Accuracy: 0.646400\n",
      "Epoch 55, CIFAR-10 Batch 2:  Loss:     1.2276 Validation Accuracy: 0.653000\n",
      "Epoch 55, CIFAR-10 Batch 3:  Loss:     1.2691 Validation Accuracy: 0.647800\n",
      "Epoch 55, CIFAR-10 Batch 4:  Loss:     1.2314 Validation Accuracy: 0.653200\n",
      "Epoch 55, CIFAR-10 Batch 5:  Loss:     1.2562 Validation Accuracy: 0.637400\n",
      "Epoch 56, CIFAR-10 Batch 1:  Loss:     1.3249 Validation Accuracy: 0.645400\n",
      "Epoch 56, CIFAR-10 Batch 2:  Loss:     1.2408 Validation Accuracy: 0.649200\n",
      "Epoch 56, CIFAR-10 Batch 3:  Loss:     1.2573 Validation Accuracy: 0.648400\n",
      "Epoch 56, CIFAR-10 Batch 4:  Loss:     1.2721 Validation Accuracy: 0.645600\n",
      "Epoch 56, CIFAR-10 Batch 5:  Loss:     1.2529 Validation Accuracy: 0.643000\n",
      "Epoch 57, CIFAR-10 Batch 1:  Loss:     1.3853 Validation Accuracy: 0.638800\n",
      "Epoch 57, CIFAR-10 Batch 2:  Loss:     1.2682 Validation Accuracy: 0.652600\n",
      "Epoch 57, CIFAR-10 Batch 3:  Loss:     1.2548 Validation Accuracy: 0.648200\n",
      "Epoch 57, CIFAR-10 Batch 4:  Loss:     1.2883 Validation Accuracy: 0.645200\n",
      "Epoch 57, CIFAR-10 Batch 5:  Loss:     1.2279 Validation Accuracy: 0.651400\n",
      "Epoch 58, CIFAR-10 Batch 1:  Loss:     1.3518 Validation Accuracy: 0.648000\n",
      "Epoch 58, CIFAR-10 Batch 2:  Loss:     1.3037 Validation Accuracy: 0.646400\n",
      "Epoch 58, CIFAR-10 Batch 3:  Loss:     1.2800 Validation Accuracy: 0.645600\n",
      "Epoch 58, CIFAR-10 Batch 4:  Loss:     1.2861 Validation Accuracy: 0.643200\n",
      "Epoch 58, CIFAR-10 Batch 5:  Loss:     1.2661 Validation Accuracy: 0.647000\n",
      "Epoch 59, CIFAR-10 Batch 1:  Loss:     1.3859 Validation Accuracy: 0.637200\n",
      "Epoch 59, CIFAR-10 Batch 2:  Loss:     1.3136 Validation Accuracy: 0.650400\n",
      "Epoch 59, CIFAR-10 Batch 3:  Loss:     1.2844 Validation Accuracy: 0.649600\n",
      "Epoch 59, CIFAR-10 Batch 4:  Loss:     1.3145 Validation Accuracy: 0.636400\n",
      "Epoch 59, CIFAR-10 Batch 5:  Loss:     1.2870 Validation Accuracy: 0.645000\n",
      "Epoch 60, CIFAR-10 Batch 1:  Loss:     1.4643 Validation Accuracy: 0.638000\n",
      "Epoch 60, CIFAR-10 Batch 2:  Loss:     1.3277 Validation Accuracy: 0.647800\n",
      "Epoch 60, CIFAR-10 Batch 3:  Loss:     1.3134 Validation Accuracy: 0.650800\n",
      "Epoch 60, CIFAR-10 Batch 4:  Loss:     1.3119 Validation Accuracy: 0.639000\n",
      "Epoch 60, CIFAR-10 Batch 5:  Loss:     1.3175 Validation Accuracy: 0.636400\n",
      "Epoch 61, CIFAR-10 Batch 1:  Loss:     1.3620 Validation Accuracy: 0.643800\n",
      "Epoch 61, CIFAR-10 Batch 2:  Loss:     1.3780 Validation Accuracy: 0.633400\n",
      "Epoch 61, CIFAR-10 Batch 3:  Loss:     1.3608 Validation Accuracy: 0.641600\n",
      "Epoch 61, CIFAR-10 Batch 4:  Loss:     1.3670 Validation Accuracy: 0.632400\n",
      "Epoch 61, CIFAR-10 Batch 5:  Loss:     1.3025 Validation Accuracy: 0.641000\n",
      "Epoch 62, CIFAR-10 Batch 1:  Loss:     1.4150 Validation Accuracy: 0.639600\n",
      "Epoch 62, CIFAR-10 Batch 2:  Loss:     1.3858 Validation Accuracy: 0.629600\n",
      "Epoch 62, CIFAR-10 Batch 3:  Loss:     1.3776 Validation Accuracy: 0.631600\n",
      "Epoch 62, CIFAR-10 Batch 4:  Loss:     1.3358 Validation Accuracy: 0.637000\n",
      "Epoch 62, CIFAR-10 Batch 5:  Loss:     1.3272 Validation Accuracy: 0.636600\n",
      "Epoch 63, CIFAR-10 Batch 1:  Loss:     1.3593 Validation Accuracy: 0.637600\n",
      "Epoch 63, CIFAR-10 Batch 2:  Loss:     1.5013 Validation Accuracy: 0.620000\n",
      "Epoch 63, CIFAR-10 Batch 3:  Loss:     1.3805 Validation Accuracy: 0.623000\n",
      "Epoch 63, CIFAR-10 Batch 4:  Loss:     1.3058 Validation Accuracy: 0.632200\n",
      "Epoch 63, CIFAR-10 Batch 5:  Loss:     1.2858 Validation Accuracy: 0.645000\n",
      "Epoch 64, CIFAR-10 Batch 1:  Loss:     1.3599 Validation Accuracy: 0.645800\n",
      "Epoch 64, CIFAR-10 Batch 2:  Loss:     1.3600 Validation Accuracy: 0.631000\n",
      "Epoch 64, CIFAR-10 Batch 3:  Loss:     1.2953 Validation Accuracy: 0.623200\n",
      "Epoch 64, CIFAR-10 Batch 4:  Loss:     1.3029 Validation Accuracy: 0.634400\n",
      "Epoch 64, CIFAR-10 Batch 5:  Loss:     1.3522 Validation Accuracy: 0.630600\n"
     ]
    }
   ],
   "source": [
    "\"\"\"\n",
    "DON'T MODIFY ANYTHING IN THIS CELL\n",
    "\"\"\"\n",
    "save_model_path = './image_classification'\n",
    "\n",
    "print('Training...')\n",
    "with tf.Session() as sess:\n",
    "    # Initializing the variables\n",
    "    sess.run(tf.global_variables_initializer())\n",
    "    \n",
    "    # Training cycle\n",
    "    for epoch in range(epochs):\n",
    "        # Loop over all batches\n",
    "        n_batches = 5\n",
    "        for batch_i in range(1, n_batches + 1):\n",
    "            for batch_features, batch_labels in helper.load_preprocess_training_batch(batch_i, batch_size):\n",
    "                train_neural_network(sess, optimizer, keep_probability, batch_features, batch_labels)\n",
    "            print('Epoch {:>2}, CIFAR-10 Batch {}:  '.format(epoch + 1, batch_i), end='')\n",
    "            print_stats(sess, batch_features, batch_labels, cost, accuracy)\n",
    "            \n",
    "    # Save Model\n",
    "    saver = tf.train.Saver()\n",
    "    save_path = saver.save(sess, save_model_path)"
   ]
  },
  {
   "cell_type": "markdown",
   "metadata": {},
   "source": [
    "# Checkpoint\n",
    "The model has been saved to disk.\n",
    "## Test Model\n",
    "Test your model against the test dataset.  This will be your final accuracy. You should have an accuracy greater than 50%. If you don't, keep tweaking the model architecture and parameters."
   ]
  },
  {
   "cell_type": "code",
   "execution_count": 22,
   "metadata": {},
   "outputs": [
    {
     "name": "stdout",
     "output_type": "stream",
     "text": [
      "Testing Accuracy: 0.6285953402519227\n",
      "\n"
     ]
    },
    {
     "data": {
      "image/png": "[encoded data removed]",
      "text/plain": [
       "<matplotlib.figure.Figure at 0x78f8160>"
      ]
     },
     "metadata": {
      "image/png": {
       "height": 319,
       "width": 355
      }
     },
     "output_type": "display_data"
    }
   ],
   "source": [
    "\"\"\"\n",
    "DON'T MODIFY ANYTHING IN THIS CELL\n",
    "\"\"\"\n",
    "%matplotlib inline\n",
    "%config InlineBackend.figure_format = 'retina'\n",
    "\n",
    "import tensorflow as tf\n",
    "import pickle\n",
    "import helper\n",
    "import random\n",
    "\n",
    "# Set batch size if not already set\n",
    "try:\n",
    "    if batch_size:\n",
    "        pass\n",
    "except NameError:\n",
    "    batch_size = 64\n",
    "\n",
    "save_model_path = './image_classification'\n",
    "n_samples = 4\n",
    "top_n_predictions = 3\n",
    "\n",
    "def test_model():\n",
    "    \"\"\"\n",
    "    Test the saved model against the test dataset\n",
    "    \"\"\"\n",
    "\n",
    "    test_features, test_labels = pickle.load(open('preprocess_test.p', mode='rb'))\n",
    "    loaded_graph = tf.Graph()\n",
    "\n",
    "    with tf.Session(graph=loaded_graph) as sess:\n",
    "        # Load model\n",
    "        loader = tf.train.import_meta_graph(save_model_path + '.meta')\n",
    "        loader.restore(sess, save_model_path)\n",
    "\n",
    "        # Get Tensors from loaded model\n",
    "        loaded_x = loaded_graph.get_tensor_by_name('x:0')\n",
    "        loaded_y = loaded_graph.get_tensor_by_name('y:0')\n",
    "        loaded_keep_prob = loaded_graph.get_tensor_by_name('keep_prob:0')\n",
    "        loaded_logits = loaded_graph.get_tensor_by_name('logits:0')\n",
    "        loaded_acc = loaded_graph.get_tensor_by_name('accuracy:0')\n",
    "        \n",
    "        # Get accuracy in batches for memory limitations\n",
    "        test_batch_acc_total = 0\n",
    "        test_batch_count = 0\n",
    "        \n",
    "        for test_feature_batch, test_label_batch in helper.batch_features_labels(test_features, test_labels, batch_size):\n",
    "            test_batch_acc_total += sess.run(\n",
    "                loaded_acc,\n",
    "                feed_dict={loaded_x: test_feature_batch, loaded_y: test_label_batch, loaded_keep_prob: 1.0})\n",
    "            test_batch_count += 1\n",
    "\n",
    "        print('Testing Accuracy: {}\\n'.format(test_batch_acc_total/test_batch_count))\n",
    "\n",
    "        # Print Random Samples\n",
    "        random_test_features, random_test_labels = tuple(zip(*random.sample(list(zip(test_features, test_labels)), n_samples)))\n",
    "        random_test_predictions = sess.run(\n",
    "            tf.nn.top_k(tf.nn.softmax(loaded_logits), top_n_predictions),\n",
    "            feed_dict={loaded_x: random_test_features, loaded_y: random_test_labels, loaded_keep_prob: 1.0})\n",
    "        helper.display_image_predictions(random_test_features, random_test_labels, random_test_predictions)\n",
    "\n",
    "\n",
    "test_model()"
   ]
  },
  {
   "cell_type": "markdown",
   "metadata": {},
   "source": [
    "## Why 50-80% Accuracy?\n",
    "You might be wondering why you can't get an accuracy any higher. First things first, 50% isn't bad for a simple CNN.  Pure guessing would get you 10% accuracy. However, you might notice people are getting scores [well above 80%](http://rodrigob.github.io/are_we_there_yet/build/classification_datasets_results.html#43494641522d3130).  That's because we haven't taught you all there is to know about neural networks. We still need to cover a few more techniques.\n",
    "## Submitting This Project\n",
    "When submitting this project, make sure to run all the cells before saving the notebook.  Save the notebook file as \"dlnd_image_classification.ipynb\" and save it as a HTML file under \"File\" -> \"Download as\".  Include the \"helper.py\" and \"problem_unittests.py\" files in your submission."
   ]
  },
  {
   "cell_type": "code",
   "execution_count": null,
   "metadata": {
    "collapsed": true
   },
   "outputs": [],
   "source": []
  }
 ],
 "metadata": {
  "kernelspec": {
   "display_name": "Python 3",
   "language": "python",
   "name": "python3"
  },
  "language_info": {
   "codemirror_mode": {
    "name": "ipython",
    "version": 3
   },
   "file_extension": ".py",
   "mimetype": "text/x-python",
   "name": "python",
   "nbconvert_exporter": "python",
   "pygments_lexer": "ipython3",
   "version": "3.5.3"
  }
 },
 "nbformat": 4,
 "nbformat_minor": 1
}
